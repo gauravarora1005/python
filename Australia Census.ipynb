{
 "cells": [
  {
   "cell_type": "code",
   "execution_count": 1,
   "metadata": {},
   "outputs": [],
   "source": [
    "import requests\n",
    "import json"
   ]
  },
  {
   "cell_type": "code",
   "execution_count": 2,
   "metadata": {},
   "outputs": [],
   "source": [
    "data_url = \"http://stat.data.abs.gov.au/sdmx-json/data/ABS_C16_T01_LGA\""
   ]
  },
  {
   "cell_type": "code",
   "execution_count": 51,
   "metadata": {},
   "outputs": [],
   "source": [
    "r = requests.get(data_url)"
   ]
  },
  {
   "cell_type": "code",
   "execution_count": 4,
   "metadata": {},
   "outputs": [
    {
     "name": "stdout",
     "output_type": "stream",
     "text": [
      "200\n"
     ]
    }
   ],
   "source": [
    "print(r.status_code)"
   ]
  },
  {
   "cell_type": "code",
   "execution_count": 7,
   "metadata": {},
   "outputs": [
    {
     "data": {
      "text/plain": [
       "requests.models.Response"
      ]
     },
     "execution_count": 7,
     "metadata": {},
     "output_type": "execute_result"
    }
   ],
   "source": [
    "type(r)"
   ]
  },
  {
   "cell_type": "code",
   "execution_count": 13,
   "metadata": {},
   "outputs": [],
   "source": [
    "#from flask import Flask\n",
    "#from flask import jsonify\n",
    "#from flask import json\n",
    "import flask"
   ]
  },
  {
   "cell_type": "code",
   "execution_count": 30,
   "metadata": {},
   "outputs": [],
   "source": [
    "data = r.text"
   ]
  },
  {
   "cell_type": "code",
   "execution_count": 52,
   "metadata": {},
   "outputs": [
    {
     "name": "stdout",
     "output_type": "stream",
     "text": [
      "<class 'str'>\n",
      "14534067\n"
     ]
    }
   ],
   "source": [
    "data2 = r.text\n",
    "print(type(data2))\n",
    "print(len(data2))"
   ]
  },
  {
   "cell_type": "code",
   "execution_count": null,
   "metadata": {},
   "outputs": [],
   "source": []
  },
  {
   "cell_type": "code",
   "execution_count": 50,
   "metadata": {},
   "outputs": [
    {
     "name": "stdout",
     "output_type": "stream",
     "text": [
      "<class 'str'>\n",
      "14681987\n"
     ]
    }
   ],
   "source": [
    "print(type(data))\n",
    "print(len(data))"
   ]
  },
  {
   "cell_type": "code",
   "execution_count": 32,
   "metadata": {},
   "outputs": [
    {
     "data": {
      "text/plain": [
       "'{\"header\":{\"id\":\"313cf53e-05b8-4d34-bcdb-5519875e0e9b\",\"test\":false,\"prepared\":\"2020-04-07T09:20:42.3872795Z\",\"sender\":{\"id\":\"ABS\",\"name\":\"Australian Bureau of Statistics\"},\"links\":[{\"href\":\"http://stat.data.abs.gov.au:80/sdmx-json/data/ABS_C16_T01_LGA\",\"rel\":\"request\"}]},\"dataSets\":[{\"action\":\"Information\",\"series\":{\"0:0:0:0:0\":{\"attributes\":[0],\"observations\":{\"0\":[24662.0,null]}},\"1:0:0:0:0\":{\"attributes\":[0],\"observations\":{\"0\":[26411.0,null]}},\"2:0:0:0:0\":{\"attributes\":[0],\"observations\":{\"0\":[51076.0,null]}},\"0:0:0:0:1\":{\"attributes\":[0],\"observations\":{\"0\":[14227.0,null]}},\"1:0:0:0:1\":{\"attributes\":[0],\"observations\":{\"0\":[15220.0,null]}},\"2:0:0:0:1\":{\"attributes\":[0],\"observations\":{\"0\":[29449.0,null]}},\"0:0:0:0:2\":{\"attributes\":[0],\"observations\":{\"0\":[20127.0,null]}},\"1:0:0:0:2\":{\"attributes\":[0],\"observations\":{\"0\":[21658.0,null]}},\"2:0:0:0:2\":{\"attributes\":[0],\"observations\":{\"0\":[41790.0,null]}},\"0:0:0:0:3\":{\"attributes\":[0],\"observations\":{\"0\":[1177.0,null]}},\"1:0:0:0:3\":'"
      ]
     },
     "execution_count": 32,
     "metadata": {},
     "output_type": "execute_result"
    }
   ],
   "source": [
    "data[0:1000]"
   ]
  },
  {
   "cell_type": "code",
   "execution_count": 36,
   "metadata": {},
   "outputs": [
    {
     "data": {
      "text/plain": [
       "{'Date': 'Tue, 07 Apr 2020 09:21:10 GMT', 'Content-Type': 'draft-sdmx-json;charset=utf-8', 'Content-Length': '15808989', 'Connection': 'keep-alive', 'Cache-Control': 'no-cache', 'Pragma': 'no-cache', 'Expires': '-1', 'Access-Control-Allow-Origin': '*', 'Access-Control-Allow-Headers': 'Content-Type', 'Access-Control-Allow-Methods': 'POST,GET,OPTIONS', 'Set-Cookie': 'BIGipServerp_1_stat-ext-web=419450890.20480.0000; path=/; Httponly, TS0156ed45=01f090da518678b396f4f9fa446572a27114d29b547720bdcbb2277e4d31beda8147779170414c026ec7d5547ead8ddc27ec7f40df84d01994137822799c1e50d3d50e569f; Path=/'}"
      ]
     },
     "execution_count": 36,
     "metadata": {},
     "output_type": "execute_result"
    }
   ],
   "source": [
    "r.headers"
   ]
  },
  {
   "cell_type": "code",
   "execution_count": 37,
   "metadata": {},
   "outputs": [],
   "source": [
    "out = json.dumps(data)"
   ]
  },
  {
   "cell_type": "code",
   "execution_count": 39,
   "metadata": {},
   "outputs": [
    {
     "data": {
      "text/plain": [
       "str"
      ]
     },
     "execution_count": 39,
     "metadata": {},
     "output_type": "execute_result"
    }
   ],
   "source": [
    "type(out)"
   ]
  },
  {
   "cell_type": "code",
   "execution_count": 42,
   "metadata": {},
   "outputs": [],
   "source": [
    "with open(\"census.json\",\"w\") as f:\n",
    "    f.write(data)"
   ]
  },
  {
   "cell_type": "code",
   "execution_count": 43,
   "metadata": {
    "collapsed": true
   },
   "outputs": [
    {
     "name": "stdout",
     "output_type": "stream",
     "text": [
      " Volume in drive C is Windows\n",
      " Volume Serial Number is 02D7-169A\n",
      "\n",
      " Directory of C:\\Users\\gaura\n",
      "\n",
      "07-04-2020  16:10    <DIR>          .\n",
      "07-04-2020  16:10    <DIR>          ..\n",
      "29-01-2020  23:17    <DIR>          .anaconda\n",
      "21-03-2020  22:56    <DIR>          .android\n",
      "21-03-2020  23:20    <DIR>          .conda\n",
      "21-03-2020  23:18                43 .condarc\n",
      "21-01-2020  06:00    <DIR>          .config\n",
      "20-01-2020  23:14    <DIR>          .DataGrip2019.3\n",
      "08-03-2020  18:47    <DIR>          .IntelliJIdea2019.3\n",
      "07-04-2020  14:46    <DIR>          .ipynb_checkpoints\n",
      "21-01-2020  05:58    <DIR>          .ipython\n",
      "29-01-2020  20:09    <DIR>          .jupyter\n",
      "21-01-2020  06:00    <DIR>          .matplotlib\n",
      "29-01-2020  23:26    <DIR>          .pylint.d\n",
      "21-03-2020  22:32                 7 .python_history\n",
      "21-03-2020  23:19    <DIR>          .spyder-py3\n",
      "29-01-2020  23:20    <DIR>          .vscode\n",
      "21-01-2020  05:02    <DIR>          3D Objects\n",
      "21-03-2020  22:26    <DIR>          apache_spark\n",
      "07-04-2020  16:09             5,409 Australia Census.ipynb\n",
      "07-04-2020  16:10        14,681,987 census.json\n",
      "21-01-2020  05:02    <DIR>          Contacts\n",
      "31-01-2020  16:01            23,349 Day 1 Session 3.ipynb\n",
      "09-03-2020  10:26    <DIR>          Desktop\n",
      "16-02-2020  11:17    <DIR>          Documents\n",
      "05-04-2020  18:56    <DIR>          Downloads\n",
      "21-01-2020  06:21        62,926,600 edb_languagepack.exe\n",
      "21-01-2020  06:21         8,635,296 edb_pgagent_pg12.exe\n",
      "21-01-2020  06:21        18,274,432 edb_pgbouncer.exe\n",
      "21-01-2020  06:22        20,101,557 edb_pgjdbc.exe\n",
      "21-01-2020  06:22        17,761,912 edb_psqlodbc.exe\n",
      "21-03-2020  19:14            53,858 excel_to_csv.ipynb\n",
      "19-03-2020  20:05             4,225 excel_to_csv-Copy1.ipynb\n",
      "21-03-2020  19:05            77,646 Export Excel sheets into RDBMS.ipynb\n",
      "21-01-2020  05:02    <DIR>          Favorites\n",
      "31-03-2020  15:39             6,771 Hackerrank.ipynb\n",
      "08-03-2020  18:56    <DIR>          IdeaProjects\n",
      "21-01-2020  05:02    <DIR>          Links\n",
      "05-04-2020  19:00    <DIR>          Music\n",
      "29-02-2020  10:31    <DIR>          OneDrive\n",
      "07-04-2020  16:09        16,432,074 out.json\n",
      "31-01-2020  15:01            42,400 Pandas Day 1.ipynb\n",
      "29-01-2020  23:12            62,173 Postgres connection.ipynb\n",
      "24-03-2020  19:39    <DIR>          PycharmProjects\n",
      "21-03-2020  22:52             1,930 Pyspark.ipynb\n",
      "21-01-2020  05:02    <DIR>          Saved Games\n",
      "21-01-2020  05:03    <DIR>          Searches\n",
      "22-01-2020  19:55    <DIR>          source\n",
      "21-01-2020  05:58                72 Untitled.ipynb\n",
      "05-04-2020  07:32             5,036 Untitled1.ipynb\n",
      "19-03-2020  20:04                72 Untitled2.ipynb\n",
      "21-03-2020  22:51                72 Untitled4.ipynb\n",
      "27-03-2020  13:07    <DIR>          Videos\n",
      "              22 File(s)    159,096,921 bytes\n",
      "              31 Dir(s)  145,986,068,480 bytes free\n"
     ]
    }
   ],
   "source": [
    "ls"
   ]
  },
  {
   "cell_type": "code",
   "execution_count": 45,
   "metadata": {},
   "outputs": [
    {
     "ename": "JSONDecodeError",
     "evalue": "Unterminated string starting at: line 1 column 14681986 (char 14681985)",
     "output_type": "error",
     "traceback": [
      "\u001b[1;31m---------------------------------------------------------------------------\u001b[0m",
      "\u001b[1;31mJSONDecodeError\u001b[0m                           Traceback (most recent call last)",
      "\u001b[1;32m<ipython-input-45-37ad7bcbb09f>\u001b[0m in \u001b[0;36m<module>\u001b[1;34m\u001b[0m\n\u001b[0;32m      4\u001b[0m \u001b[1;33m\u001b[0m\u001b[0m\n\u001b[0;32m      5\u001b[0m \u001b[1;31m# decoding the JSON to dictionay\u001b[0m\u001b[1;33m\u001b[0m\u001b[1;33m\u001b[0m\u001b[1;33m\u001b[0m\u001b[0m\n\u001b[1;32m----> 6\u001b[1;33m \u001b[0mcensus_dict\u001b[0m \u001b[1;33m=\u001b[0m \u001b[0mjson\u001b[0m\u001b[1;33m.\u001b[0m\u001b[0mloads\u001b[0m\u001b[1;33m(\u001b[0m\u001b[0md\u001b[0m\u001b[1;33m)\u001b[0m\u001b[1;33m\u001b[0m\u001b[1;33m\u001b[0m\u001b[0m\n\u001b[0m",
      "\u001b[1;32mC:\\ProgramData\\Anaconda3\\lib\\site-packages\\flask\\json\\__init__.py\u001b[0m in \u001b[0;36mloads\u001b[1;34m(s, app, **kwargs)\u001b[0m\n\u001b[0;32m    251\u001b[0m             \u001b[0mencoding\u001b[0m \u001b[1;33m=\u001b[0m \u001b[0mdetect_encoding\u001b[0m\u001b[1;33m(\u001b[0m\u001b[0ms\u001b[0m\u001b[1;33m)\u001b[0m\u001b[1;33m\u001b[0m\u001b[1;33m\u001b[0m\u001b[0m\n\u001b[0;32m    252\u001b[0m         \u001b[0ms\u001b[0m \u001b[1;33m=\u001b[0m \u001b[0ms\u001b[0m\u001b[1;33m.\u001b[0m\u001b[0mdecode\u001b[0m\u001b[1;33m(\u001b[0m\u001b[0mencoding\u001b[0m\u001b[1;33m)\u001b[0m\u001b[1;33m\u001b[0m\u001b[1;33m\u001b[0m\u001b[0m\n\u001b[1;32m--> 253\u001b[1;33m     \u001b[1;32mreturn\u001b[0m \u001b[0m_json\u001b[0m\u001b[1;33m.\u001b[0m\u001b[0mloads\u001b[0m\u001b[1;33m(\u001b[0m\u001b[0ms\u001b[0m\u001b[1;33m,\u001b[0m \u001b[1;33m**\u001b[0m\u001b[0mkwargs\u001b[0m\u001b[1;33m)\u001b[0m\u001b[1;33m\u001b[0m\u001b[1;33m\u001b[0m\u001b[0m\n\u001b[0m\u001b[0;32m    254\u001b[0m \u001b[1;33m\u001b[0m\u001b[0m\n\u001b[0;32m    255\u001b[0m \u001b[1;33m\u001b[0m\u001b[0m\n",
      "\u001b[1;32mC:\\ProgramData\\Anaconda3\\lib\\json\\__init__.py\u001b[0m in \u001b[0;36mloads\u001b[1;34m(s, encoding, cls, object_hook, parse_float, parse_int, parse_constant, object_pairs_hook, **kw)\u001b[0m\n\u001b[0;32m    359\u001b[0m     \u001b[1;32mif\u001b[0m \u001b[0mparse_constant\u001b[0m \u001b[1;32mis\u001b[0m \u001b[1;32mnot\u001b[0m \u001b[1;32mNone\u001b[0m\u001b[1;33m:\u001b[0m\u001b[1;33m\u001b[0m\u001b[1;33m\u001b[0m\u001b[0m\n\u001b[0;32m    360\u001b[0m         \u001b[0mkw\u001b[0m\u001b[1;33m[\u001b[0m\u001b[1;34m'parse_constant'\u001b[0m\u001b[1;33m]\u001b[0m \u001b[1;33m=\u001b[0m \u001b[0mparse_constant\u001b[0m\u001b[1;33m\u001b[0m\u001b[1;33m\u001b[0m\u001b[0m\n\u001b[1;32m--> 361\u001b[1;33m     \u001b[1;32mreturn\u001b[0m \u001b[0mcls\u001b[0m\u001b[1;33m(\u001b[0m\u001b[1;33m**\u001b[0m\u001b[0mkw\u001b[0m\u001b[1;33m)\u001b[0m\u001b[1;33m.\u001b[0m\u001b[0mdecode\u001b[0m\u001b[1;33m(\u001b[0m\u001b[0ms\u001b[0m\u001b[1;33m)\u001b[0m\u001b[1;33m\u001b[0m\u001b[1;33m\u001b[0m\u001b[0m\n\u001b[0m",
      "\u001b[1;32mC:\\ProgramData\\Anaconda3\\lib\\json\\decoder.py\u001b[0m in \u001b[0;36mdecode\u001b[1;34m(self, s, _w)\u001b[0m\n\u001b[0;32m    335\u001b[0m \u001b[1;33m\u001b[0m\u001b[0m\n\u001b[0;32m    336\u001b[0m         \"\"\"\n\u001b[1;32m--> 337\u001b[1;33m         \u001b[0mobj\u001b[0m\u001b[1;33m,\u001b[0m \u001b[0mend\u001b[0m \u001b[1;33m=\u001b[0m \u001b[0mself\u001b[0m\u001b[1;33m.\u001b[0m\u001b[0mraw_decode\u001b[0m\u001b[1;33m(\u001b[0m\u001b[0ms\u001b[0m\u001b[1;33m,\u001b[0m \u001b[0midx\u001b[0m\u001b[1;33m=\u001b[0m\u001b[0m_w\u001b[0m\u001b[1;33m(\u001b[0m\u001b[0ms\u001b[0m\u001b[1;33m,\u001b[0m \u001b[1;36m0\u001b[0m\u001b[1;33m)\u001b[0m\u001b[1;33m.\u001b[0m\u001b[0mend\u001b[0m\u001b[1;33m(\u001b[0m\u001b[1;33m)\u001b[0m\u001b[1;33m)\u001b[0m\u001b[1;33m\u001b[0m\u001b[1;33m\u001b[0m\u001b[0m\n\u001b[0m\u001b[0;32m    338\u001b[0m         \u001b[0mend\u001b[0m \u001b[1;33m=\u001b[0m \u001b[0m_w\u001b[0m\u001b[1;33m(\u001b[0m\u001b[0ms\u001b[0m\u001b[1;33m,\u001b[0m \u001b[0mend\u001b[0m\u001b[1;33m)\u001b[0m\u001b[1;33m.\u001b[0m\u001b[0mend\u001b[0m\u001b[1;33m(\u001b[0m\u001b[1;33m)\u001b[0m\u001b[1;33m\u001b[0m\u001b[1;33m\u001b[0m\u001b[0m\n\u001b[0;32m    339\u001b[0m         \u001b[1;32mif\u001b[0m \u001b[0mend\u001b[0m \u001b[1;33m!=\u001b[0m \u001b[0mlen\u001b[0m\u001b[1;33m(\u001b[0m\u001b[0ms\u001b[0m\u001b[1;33m)\u001b[0m\u001b[1;33m:\u001b[0m\u001b[1;33m\u001b[0m\u001b[1;33m\u001b[0m\u001b[0m\n",
      "\u001b[1;32mC:\\ProgramData\\Anaconda3\\lib\\json\\decoder.py\u001b[0m in \u001b[0;36mraw_decode\u001b[1;34m(self, s, idx)\u001b[0m\n\u001b[0;32m    351\u001b[0m         \"\"\"\n\u001b[0;32m    352\u001b[0m         \u001b[1;32mtry\u001b[0m\u001b[1;33m:\u001b[0m\u001b[1;33m\u001b[0m\u001b[1;33m\u001b[0m\u001b[0m\n\u001b[1;32m--> 353\u001b[1;33m             \u001b[0mobj\u001b[0m\u001b[1;33m,\u001b[0m \u001b[0mend\u001b[0m \u001b[1;33m=\u001b[0m \u001b[0mself\u001b[0m\u001b[1;33m.\u001b[0m\u001b[0mscan_once\u001b[0m\u001b[1;33m(\u001b[0m\u001b[0ms\u001b[0m\u001b[1;33m,\u001b[0m \u001b[0midx\u001b[0m\u001b[1;33m)\u001b[0m\u001b[1;33m\u001b[0m\u001b[1;33m\u001b[0m\u001b[0m\n\u001b[0m\u001b[0;32m    354\u001b[0m         \u001b[1;32mexcept\u001b[0m \u001b[0mStopIteration\u001b[0m \u001b[1;32mas\u001b[0m \u001b[0merr\u001b[0m\u001b[1;33m:\u001b[0m\u001b[1;33m\u001b[0m\u001b[1;33m\u001b[0m\u001b[0m\n\u001b[0;32m    355\u001b[0m             \u001b[1;32mraise\u001b[0m \u001b[0mJSONDecodeError\u001b[0m\u001b[1;33m(\u001b[0m\u001b[1;34m\"Expecting value\"\u001b[0m\u001b[1;33m,\u001b[0m \u001b[0ms\u001b[0m\u001b[1;33m,\u001b[0m \u001b[0merr\u001b[0m\u001b[1;33m.\u001b[0m\u001b[0mvalue\u001b[0m\u001b[1;33m)\u001b[0m \u001b[1;32mfrom\u001b[0m \u001b[1;32mNone\u001b[0m\u001b[1;33m\u001b[0m\u001b[1;33m\u001b[0m\u001b[0m\n",
      "\u001b[1;31mJSONDecodeError\u001b[0m: Unterminated string starting at: line 1 column 14681986 (char 14681985)"
     ]
    }
   ],
   "source": [
    "# reads census.json back to create python dict\n",
    "with open(\"census.json\",\"r\") as f:\n",
    "    d = f.read()\n",
    "\n",
    "# decoding the JSON to dictionay\n",
    "census_dict = json.loads(d)"
   ]
  },
  {
   "cell_type": "code",
   "execution_count": 49,
   "metadata": {},
   "outputs": [
    {
     "data": {
      "text/plain": [
       "'.0,null]}},\"2:127:3:0:302\":{\"attributes\":[0],\"observations\":{\"0\":[3215.0,null]}},\"0:126:3:0:325\":{\"attributes\":[0],\"observations\":{\"0\":[1521.0,null]}},\"0:126:4:0:442\":{\"attributes\":[0],\"o'"
      ]
     },
     "execution_count": 49,
     "metadata": {},
     "output_type": "execute_result"
    }
   ],
   "source": [
    "data[14681800:]"
   ]
  },
  {
   "cell_type": "code",
   "execution_count": 58,
   "metadata": {},
   "outputs": [],
   "source": [
    "from pandasdmx import Request\n",
    "import pandasdmx"
   ]
  },
  {
   "cell_type": "code",
   "execution_count": 65,
   "metadata": {},
   "outputs": [
    {
     "ename": "NameError",
     "evalue": "name 'self' is not defined",
     "output_type": "error",
     "traceback": [
      "\u001b[1;31m---------------------------------------------------------------------------\u001b[0m",
      "\u001b[1;31mNameError\u001b[0m                                 Traceback (most recent call last)",
      "\u001b[1;32m<ipython-input-65-6c9f087a4416>\u001b[0m in \u001b[0;36m<module>\u001b[1;34m\u001b[0m\n\u001b[1;32m----> 1\u001b[1;33m \u001b[0mpandasdmx\u001b[0m\u001b[1;33m.\u001b[0m\u001b[0mremote\u001b[0m\u001b[1;33m.\u001b[0m\u001b[0mREST\u001b[0m\u001b[1;33m.\u001b[0m\u001b[0mget\u001b[0m\u001b[1;33m(\u001b[0m\u001b[0mself\u001b[0m\u001b[1;33m,\u001b[0m \u001b[0murl\u001b[0m \u001b[1;33m=\u001b[0m \u001b[0mdata_url\u001b[0m\u001b[1;33m)\u001b[0m\u001b[1;33m\u001b[0m\u001b[1;33m\u001b[0m\u001b[0m\n\u001b[0m",
      "\u001b[1;31mNameError\u001b[0m: name 'self' is not defined"
     ]
    }
   ],
   "source": [
    "pandasdmx.remote.REST.get(self, url = data_url)"
   ]
  },
  {
   "cell_type": "code",
   "execution_count": 66,
   "metadata": {},
   "outputs": [
    {
     "data": {
      "text/plain": [
       "{'Date': 'Tue, 07 Apr 2020 10:59:15 GMT', 'Content-Type': 'draft-sdmx-json;charset=utf-8', 'Content-Length': '15808989', 'Connection': 'keep-alive', 'Cache-Control': 'no-cache', 'Pragma': 'no-cache', 'Expires': '-1', 'Access-Control-Allow-Origin': '*', 'Access-Control-Allow-Headers': 'Content-Type', 'Access-Control-Allow-Methods': 'POST,GET,OPTIONS', 'Set-Cookie': 'BIGipServerp_1_stat-ext-web=385896458.20480.0000; path=/; Httponly, TS0156ed45=01f090da5198aefff04a39c31ddd1c58a27c4abaa43c811d81a0e6f526fd79f8e0d466181c19f515c0c1ef6b5b2aecb9c902fd585f80fc5942e11c26425e17ea17493b7949; Path=/'}"
      ]
     },
     "execution_count": 66,
     "metadata": {},
     "output_type": "execute_result"
    }
   ],
   "source": [
    "r.headers"
   ]
  },
  {
   "cell_type": "code",
   "execution_count": null,
   "metadata": {},
   "outputs": [],
   "source": []
  }
 ],
 "metadata": {
  "kernelspec": {
   "display_name": "Python 3",
   "language": "python",
   "name": "python3"
  },
  "language_info": {
   "codemirror_mode": {
    "name": "ipython",
    "version": 3
   },
   "file_extension": ".py",
   "mimetype": "text/x-python",
   "name": "python",
   "nbconvert_exporter": "python",
   "pygments_lexer": "ipython3",
   "version": "3.7.4"
  }
 },
 "nbformat": 4,
 "nbformat_minor": 2
}
