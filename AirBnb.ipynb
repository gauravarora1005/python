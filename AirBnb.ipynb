{
 "cells": [
  {
   "cell_type": "code",
   "execution_count": 1,
   "metadata": {},
   "outputs": [],
   "source": [
    "import pandas as pd\n",
    "import os"
   ]
  },
  {
   "cell_type": "code",
   "execution_count": 4,
   "metadata": {},
   "outputs": [],
   "source": [
    "os.chdir(r'C:\\Backup\\Downloads\\AirSeva')"
   ]
  },
  {
   "cell_type": "code",
   "execution_count": 5,
   "metadata": {},
   "outputs": [],
   "source": [
    "support_data = pd.read_excel('support2020.xlsx')"
   ]
  },
  {
   "cell_type": "code",
   "execution_count": 6,
   "metadata": {},
   "outputs": [
    {
     "name": "stdout",
     "output_type": "stream",
     "text": [
      "<class 'pandas.core.frame.DataFrame'>\n",
      "RangeIndex: 505115 entries, 0 to 505114\n",
      "Data columns (total 5 columns):\n",
      " #   Column              Non-Null Count   Dtype         \n",
      "---  ------              --------------   -----         \n",
      " 0   id                  505115 non-null  int64         \n",
      " 1   assignee_id         505115 non-null  int64         \n",
      " 2   requester_language  505115 non-null  object        \n",
      " 3   created_time        505115 non-null  datetime64[ns]\n",
      " 4   solved_time         505115 non-null  object        \n",
      "dtypes: datetime64[ns](1), int64(2), object(2)\n",
      "memory usage: 19.3+ MB\n"
     ]
    }
   ],
   "source": [
    "support_data.info()"
   ]
  },
  {
   "cell_type": "code",
   "execution_count": 7,
   "metadata": {},
   "outputs": [
    {
     "data": {
      "text/html": [
       "<div>\n",
       "<style scoped>\n",
       "    .dataframe tbody tr th:only-of-type {\n",
       "        vertical-align: middle;\n",
       "    }\n",
       "\n",
       "    .dataframe tbody tr th {\n",
       "        vertical-align: top;\n",
       "    }\n",
       "\n",
       "    .dataframe thead th {\n",
       "        text-align: right;\n",
       "    }\n",
       "</style>\n",
       "<table border=\"1\" class=\"dataframe\">\n",
       "  <thead>\n",
       "    <tr style=\"text-align: right;\">\n",
       "      <th></th>\n",
       "      <th>id</th>\n",
       "      <th>assignee_id</th>\n",
       "      <th>requester_language</th>\n",
       "      <th>created_time</th>\n",
       "      <th>solved_time</th>\n",
       "    </tr>\n",
       "  </thead>\n",
       "  <tbody>\n",
       "    <tr>\n",
       "      <th>0</th>\n",
       "      <td>3674186</td>\n",
       "      <td>449058839</td>\n",
       "      <td>english</td>\n",
       "      <td>2019-04-01 00:05:00</td>\n",
       "      <td>2019-04-01 00:28:00</td>\n",
       "    </tr>\n",
       "    <tr>\n",
       "      <th>1</th>\n",
       "      <td>3674340</td>\n",
       "      <td>611940426</td>\n",
       "      <td>english</td>\n",
       "      <td>2019-04-01 00:07:00</td>\n",
       "      <td>2019-04-02 09:58:00</td>\n",
       "    </tr>\n",
       "  </tbody>\n",
       "</table>\n",
       "</div>"
      ],
      "text/plain": [
       "        id  assignee_id requester_language        created_time  \\\n",
       "0  3674186    449058839            english 2019-04-01 00:05:00   \n",
       "1  3674340    611940426            english 2019-04-01 00:07:00   \n",
       "\n",
       "           solved_time  \n",
       "0  2019-04-01 00:28:00  \n",
       "1  2019-04-02 09:58:00  "
      ]
     },
     "execution_count": 7,
     "metadata": {},
     "output_type": "execute_result"
    }
   ],
   "source": [
    "support_data.head(2)"
   ]
  },
  {
   "cell_type": "code",
   "execution_count": 31,
   "metadata": {},
   "outputs": [],
   "source": [
    "filtered_data = support_data.loc[support_data['solved_time'] != 1095]"
   ]
  },
  {
   "cell_type": "code",
   "execution_count": 32,
   "metadata": {},
   "outputs": [
    {
     "name": "stdout",
     "output_type": "stream",
     "text": [
      "<class 'pandas.core.frame.DataFrame'>\n",
      "Int64Index: 504042 entries, 0 to 505114\n",
      "Data columns (total 6 columns):\n",
      " #   Column              Non-Null Count   Dtype         \n",
      "---  ------              --------------   -----         \n",
      " 0   id                  504042 non-null  int64         \n",
      " 1   assignee_id         504042 non-null  int64         \n",
      " 2   requester_language  504042 non-null  object        \n",
      " 3   created_time        504042 non-null  datetime64[ns]\n",
      " 4   solved_time         504042 non-null  object        \n",
      " 5   created_date        504042 non-null  object        \n",
      "dtypes: datetime64[ns](1), int64(2), object(3)\n",
      "memory usage: 26.9+ MB\n"
     ]
    }
   ],
   "source": [
    "filtered_data.info()"
   ]
  },
  {
   "cell_type": "code",
   "execution_count": 33,
   "metadata": {},
   "outputs": [
    {
     "name": "stderr",
     "output_type": "stream",
     "text": [
      "<ipython-input-33-97919ad052e6>:1: SettingWithCopyWarning: \n",
      "A value is trying to be set on a copy of a slice from a DataFrame.\n",
      "Try using .loc[row_indexer,col_indexer] = value instead\n",
      "\n",
      "See the caveats in the documentation: https://pandas.pydata.org/pandas-docs/stable/user_guide/indexing.html#returning-a-view-versus-a-copy\n",
      "  filtered_data['solved_time'] = pd.to_datetime(filtered_data['solved_time'])\n"
     ]
    }
   ],
   "source": [
    "filtered_data['solved_time'] = pd.to_datetime(filtered_data['solved_time'])"
   ]
  },
  {
   "cell_type": "code",
   "execution_count": 8,
   "metadata": {},
   "outputs": [],
   "source": [
    "import datetime"
   ]
  },
  {
   "cell_type": "code",
   "execution_count": 9,
   "metadata": {},
   "outputs": [],
   "source": [
    "support_data['created_date']=pd.to_datetime(support_data['created_time']).apply(lambda x: x.date())"
   ]
  },
  {
   "cell_type": "code",
   "execution_count": 35,
   "metadata": {},
   "outputs": [
    {
     "name": "stderr",
     "output_type": "stream",
     "text": [
      "<ipython-input-35-fb8d84c65add>:1: SettingWithCopyWarning: \n",
      "A value is trying to be set on a copy of a slice from a DataFrame.\n",
      "Try using .loc[row_indexer,col_indexer] = value instead\n",
      "\n",
      "See the caveats in the documentation: https://pandas.pydata.org/pandas-docs/stable/user_guide/indexing.html#returning-a-view-versus-a-copy\n",
      "  filtered_data['AHT'] = filtered_data['solved_time'] - filtered_data['created_time']\n"
     ]
    }
   ],
   "source": [
    "filtered_data['AHT'] = filtered_data['solved_time'] - filtered_data['created_time']"
   ]
  },
  {
   "cell_type": "code",
   "execution_count": 36,
   "metadata": {},
   "outputs": [
    {
     "data": {
      "text/html": [
       "<div>\n",
       "<style scoped>\n",
       "    .dataframe tbody tr th:only-of-type {\n",
       "        vertical-align: middle;\n",
       "    }\n",
       "\n",
       "    .dataframe tbody tr th {\n",
       "        vertical-align: top;\n",
       "    }\n",
       "\n",
       "    .dataframe thead th {\n",
       "        text-align: right;\n",
       "    }\n",
       "</style>\n",
       "<table border=\"1\" class=\"dataframe\">\n",
       "  <thead>\n",
       "    <tr style=\"text-align: right;\">\n",
       "      <th></th>\n",
       "      <th>id</th>\n",
       "      <th>assignee_id</th>\n",
       "      <th>requester_language</th>\n",
       "      <th>created_time</th>\n",
       "      <th>solved_time</th>\n",
       "      <th>created_date</th>\n",
       "      <th>AHT</th>\n",
       "    </tr>\n",
       "  </thead>\n",
       "  <tbody>\n",
       "    <tr>\n",
       "      <th>0</th>\n",
       "      <td>3674186</td>\n",
       "      <td>449058839</td>\n",
       "      <td>english</td>\n",
       "      <td>2019-04-01 00:05:00</td>\n",
       "      <td>2019-04-01 00:28:00</td>\n",
       "      <td>2019-04-01</td>\n",
       "      <td>0 days 00:23:00</td>\n",
       "    </tr>\n",
       "    <tr>\n",
       "      <th>1</th>\n",
       "      <td>3674340</td>\n",
       "      <td>611940426</td>\n",
       "      <td>english</td>\n",
       "      <td>2019-04-01 00:07:00</td>\n",
       "      <td>2019-04-02 09:58:00</td>\n",
       "      <td>2019-04-01</td>\n",
       "      <td>1 days 09:51:00</td>\n",
       "    </tr>\n",
       "    <tr>\n",
       "      <th>2</th>\n",
       "      <td>3674096</td>\n",
       "      <td>636234043</td>\n",
       "      <td>english</td>\n",
       "      <td>2019-04-01 00:08:00</td>\n",
       "      <td>2019-04-01 01:07:00</td>\n",
       "      <td>2019-04-01</td>\n",
       "      <td>0 days 00:59:00</td>\n",
       "    </tr>\n",
       "    <tr>\n",
       "      <th>3</th>\n",
       "      <td>3674031</td>\n",
       "      <td>74731268</td>\n",
       "      <td>english</td>\n",
       "      <td>2019-04-01 00:09:00</td>\n",
       "      <td>2019-04-04 14:56:00</td>\n",
       "      <td>2019-04-01</td>\n",
       "      <td>3 days 14:47:00</td>\n",
       "    </tr>\n",
       "    <tr>\n",
       "      <th>4</th>\n",
       "      <td>3675019</td>\n",
       "      <td>450996499</td>\n",
       "      <td>english</td>\n",
       "      <td>2019-04-01 00:12:00</td>\n",
       "      <td>2019-04-01 00:18:00</td>\n",
       "      <td>2019-04-01</td>\n",
       "      <td>0 days 00:06:00</td>\n",
       "    </tr>\n",
       "  </tbody>\n",
       "</table>\n",
       "</div>"
      ],
      "text/plain": [
       "        id  assignee_id requester_language        created_time  \\\n",
       "0  3674186    449058839            english 2019-04-01 00:05:00   \n",
       "1  3674340    611940426            english 2019-04-01 00:07:00   \n",
       "2  3674096    636234043            english 2019-04-01 00:08:00   \n",
       "3  3674031     74731268            english 2019-04-01 00:09:00   \n",
       "4  3675019    450996499            english 2019-04-01 00:12:00   \n",
       "\n",
       "          solved_time created_date             AHT  \n",
       "0 2019-04-01 00:28:00   2019-04-01 0 days 00:23:00  \n",
       "1 2019-04-02 09:58:00   2019-04-01 1 days 09:51:00  \n",
       "2 2019-04-01 01:07:00   2019-04-01 0 days 00:59:00  \n",
       "3 2019-04-04 14:56:00   2019-04-01 3 days 14:47:00  \n",
       "4 2019-04-01 00:18:00   2019-04-01 0 days 00:06:00  "
      ]
     },
     "execution_count": 36,
     "metadata": {},
     "output_type": "execute_result"
    }
   ],
   "source": [
    "filtered_data.head()"
   ]
  },
  {
   "cell_type": "code",
   "execution_count": 37,
   "metadata": {},
   "outputs": [
    {
     "name": "stdout",
     "output_type": "stream",
     "text": [
      "<class 'pandas.core.frame.DataFrame'>\n",
      "Int64Index: 504042 entries, 0 to 505114\n",
      "Data columns (total 7 columns):\n",
      " #   Column              Non-Null Count   Dtype          \n",
      "---  ------              --------------   -----          \n",
      " 0   id                  504042 non-null  int64          \n",
      " 1   assignee_id         504042 non-null  int64          \n",
      " 2   requester_language  504042 non-null  object         \n",
      " 3   created_time        504042 non-null  datetime64[ns] \n",
      " 4   solved_time         504042 non-null  datetime64[ns] \n",
      " 5   created_date        504042 non-null  object         \n",
      " 6   AHT                 504042 non-null  timedelta64[ns]\n",
      "dtypes: datetime64[ns](2), int64(2), object(2), timedelta64[ns](1)\n",
      "memory usage: 30.8+ MB\n"
     ]
    }
   ],
   "source": [
    "filtered_data.info()"
   ]
  },
  {
   "cell_type": "code",
   "execution_count": 42,
   "metadata": {},
   "outputs": [],
   "source": [
    "import numpy as np"
   ]
  },
  {
   "cell_type": "code",
   "execution_count": 43,
   "metadata": {},
   "outputs": [
    {
     "name": "stderr",
     "output_type": "stream",
     "text": [
      "<ipython-input-43-ce2d8d063d41>:1: SettingWithCopyWarning: \n",
      "A value is trying to be set on a copy of a slice from a DataFrame.\n",
      "Try using .loc[row_indexer,col_indexer] = value instead\n",
      "\n",
      "See the caveats in the documentation: https://pandas.pydata.org/pandas-docs/stable/user_guide/indexing.html#returning-a-view-versus-a-copy\n",
      "  filtered_data['aht_minutes'] = filtered_data['AHT']/np.timedelta64(1,'m')\n"
     ]
    }
   ],
   "source": [
    "filtered_data['aht_minutes'] = filtered_data['AHT']/np.timedelta64(1,'m')"
   ]
  },
  {
   "cell_type": "code",
   "execution_count": 44,
   "metadata": {},
   "outputs": [
    {
     "name": "stdout",
     "output_type": "stream",
     "text": [
      "<class 'pandas.core.frame.DataFrame'>\n",
      "Int64Index: 504042 entries, 0 to 505114\n",
      "Data columns (total 8 columns):\n",
      " #   Column              Non-Null Count   Dtype          \n",
      "---  ------              --------------   -----          \n",
      " 0   id                  504042 non-null  int64          \n",
      " 1   assignee_id         504042 non-null  int64          \n",
      " 2   requester_language  504042 non-null  object         \n",
      " 3   created_time        504042 non-null  datetime64[ns] \n",
      " 4   solved_time         504042 non-null  datetime64[ns] \n",
      " 5   created_date        504042 non-null  object         \n",
      " 6   AHT                 504042 non-null  timedelta64[ns]\n",
      " 7   aht_minutes         504042 non-null  float64        \n",
      "dtypes: datetime64[ns](2), float64(1), int64(2), object(2), timedelta64[ns](1)\n",
      "memory usage: 34.6+ MB\n"
     ]
    }
   ],
   "source": [
    "filtered_data.info()"
   ]
  },
  {
   "cell_type": "code",
   "execution_count": 45,
   "metadata": {},
   "outputs": [
    {
     "data": {
      "text/html": [
       "<div>\n",
       "<style scoped>\n",
       "    .dataframe tbody tr th:only-of-type {\n",
       "        vertical-align: middle;\n",
       "    }\n",
       "\n",
       "    .dataframe tbody tr th {\n",
       "        vertical-align: top;\n",
       "    }\n",
       "\n",
       "    .dataframe thead th {\n",
       "        text-align: right;\n",
       "    }\n",
       "</style>\n",
       "<table border=\"1\" class=\"dataframe\">\n",
       "  <thead>\n",
       "    <tr style=\"text-align: right;\">\n",
       "      <th></th>\n",
       "      <th>id</th>\n",
       "      <th>assignee_id</th>\n",
       "      <th>requester_language</th>\n",
       "      <th>created_time</th>\n",
       "      <th>solved_time</th>\n",
       "      <th>created_date</th>\n",
       "      <th>AHT</th>\n",
       "      <th>aht_minutes</th>\n",
       "    </tr>\n",
       "  </thead>\n",
       "  <tbody>\n",
       "    <tr>\n",
       "      <th>0</th>\n",
       "      <td>3674186</td>\n",
       "      <td>449058839</td>\n",
       "      <td>english</td>\n",
       "      <td>2019-04-01 00:05:00</td>\n",
       "      <td>2019-04-01 00:28:00</td>\n",
       "      <td>2019-04-01</td>\n",
       "      <td>0 days 00:23:00</td>\n",
       "      <td>23.0</td>\n",
       "    </tr>\n",
       "    <tr>\n",
       "      <th>1</th>\n",
       "      <td>3674340</td>\n",
       "      <td>611940426</td>\n",
       "      <td>english</td>\n",
       "      <td>2019-04-01 00:07:00</td>\n",
       "      <td>2019-04-02 09:58:00</td>\n",
       "      <td>2019-04-01</td>\n",
       "      <td>1 days 09:51:00</td>\n",
       "      <td>2031.0</td>\n",
       "    </tr>\n",
       "    <tr>\n",
       "      <th>2</th>\n",
       "      <td>3674096</td>\n",
       "      <td>636234043</td>\n",
       "      <td>english</td>\n",
       "      <td>2019-04-01 00:08:00</td>\n",
       "      <td>2019-04-01 01:07:00</td>\n",
       "      <td>2019-04-01</td>\n",
       "      <td>0 days 00:59:00</td>\n",
       "      <td>59.0</td>\n",
       "    </tr>\n",
       "    <tr>\n",
       "      <th>3</th>\n",
       "      <td>3674031</td>\n",
       "      <td>74731268</td>\n",
       "      <td>english</td>\n",
       "      <td>2019-04-01 00:09:00</td>\n",
       "      <td>2019-04-04 14:56:00</td>\n",
       "      <td>2019-04-01</td>\n",
       "      <td>3 days 14:47:00</td>\n",
       "      <td>5207.0</td>\n",
       "    </tr>\n",
       "    <tr>\n",
       "      <th>4</th>\n",
       "      <td>3675019</td>\n",
       "      <td>450996499</td>\n",
       "      <td>english</td>\n",
       "      <td>2019-04-01 00:12:00</td>\n",
       "      <td>2019-04-01 00:18:00</td>\n",
       "      <td>2019-04-01</td>\n",
       "      <td>0 days 00:06:00</td>\n",
       "      <td>6.0</td>\n",
       "    </tr>\n",
       "  </tbody>\n",
       "</table>\n",
       "</div>"
      ],
      "text/plain": [
       "        id  assignee_id requester_language        created_time  \\\n",
       "0  3674186    449058839            english 2019-04-01 00:05:00   \n",
       "1  3674340    611940426            english 2019-04-01 00:07:00   \n",
       "2  3674096    636234043            english 2019-04-01 00:08:00   \n",
       "3  3674031     74731268            english 2019-04-01 00:09:00   \n",
       "4  3675019    450996499            english 2019-04-01 00:12:00   \n",
       "\n",
       "          solved_time created_date             AHT  aht_minutes  \n",
       "0 2019-04-01 00:28:00   2019-04-01 0 days 00:23:00         23.0  \n",
       "1 2019-04-02 09:58:00   2019-04-01 1 days 09:51:00       2031.0  \n",
       "2 2019-04-01 01:07:00   2019-04-01 0 days 00:59:00         59.0  \n",
       "3 2019-04-04 14:56:00   2019-04-01 3 days 14:47:00       5207.0  \n",
       "4 2019-04-01 00:18:00   2019-04-01 0 days 00:06:00          6.0  "
      ]
     },
     "execution_count": 45,
     "metadata": {},
     "output_type": "execute_result"
    }
   ],
   "source": [
    "filtered_data.head()"
   ]
  },
  {
   "cell_type": "code",
   "execution_count": 46,
   "metadata": {},
   "outputs": [
    {
     "name": "stderr",
     "output_type": "stream",
     "text": [
      "<ipython-input-46-b4977531082e>:1: SettingWithCopyWarning: \n",
      "A value is trying to be set on a copy of a slice from a DataFrame.\n",
      "Try using .loc[row_indexer,col_indexer] = value instead\n",
      "\n",
      "See the caveats in the documentation: https://pandas.pydata.org/pandas-docs/stable/user_guide/indexing.html#returning-a-view-versus-a-copy\n",
      "  filtered_data['gt1dayfilter'] = filtered_data['aht_minutes'] > 480\n"
     ]
    }
   ],
   "source": [
    "filtered_data['gt1dayfilter'] = filtered_data['aht_minutes'] > 480"
   ]
  },
  {
   "cell_type": "code",
   "execution_count": 47,
   "metadata": {},
   "outputs": [
    {
     "data": {
      "text/html": [
       "<div>\n",
       "<style scoped>\n",
       "    .dataframe tbody tr th:only-of-type {\n",
       "        vertical-align: middle;\n",
       "    }\n",
       "\n",
       "    .dataframe tbody tr th {\n",
       "        vertical-align: top;\n",
       "    }\n",
       "\n",
       "    .dataframe thead th {\n",
       "        text-align: right;\n",
       "    }\n",
       "</style>\n",
       "<table border=\"1\" class=\"dataframe\">\n",
       "  <thead>\n",
       "    <tr style=\"text-align: right;\">\n",
       "      <th></th>\n",
       "      <th>id</th>\n",
       "      <th>assignee_id</th>\n",
       "      <th>requester_language</th>\n",
       "      <th>created_time</th>\n",
       "      <th>solved_time</th>\n",
       "      <th>created_date</th>\n",
       "      <th>AHT</th>\n",
       "      <th>aht_minutes</th>\n",
       "      <th>gt1dayfilter</th>\n",
       "    </tr>\n",
       "  </thead>\n",
       "  <tbody>\n",
       "    <tr>\n",
       "      <th>0</th>\n",
       "      <td>3674186</td>\n",
       "      <td>449058839</td>\n",
       "      <td>english</td>\n",
       "      <td>2019-04-01 00:05:00</td>\n",
       "      <td>2019-04-01 00:28:00</td>\n",
       "      <td>2019-04-01</td>\n",
       "      <td>0 days 00:23:00</td>\n",
       "      <td>23.0</td>\n",
       "      <td>False</td>\n",
       "    </tr>\n",
       "    <tr>\n",
       "      <th>1</th>\n",
       "      <td>3674340</td>\n",
       "      <td>611940426</td>\n",
       "      <td>english</td>\n",
       "      <td>2019-04-01 00:07:00</td>\n",
       "      <td>2019-04-02 09:58:00</td>\n",
       "      <td>2019-04-01</td>\n",
       "      <td>1 days 09:51:00</td>\n",
       "      <td>2031.0</td>\n",
       "      <td>True</td>\n",
       "    </tr>\n",
       "    <tr>\n",
       "      <th>2</th>\n",
       "      <td>3674096</td>\n",
       "      <td>636234043</td>\n",
       "      <td>english</td>\n",
       "      <td>2019-04-01 00:08:00</td>\n",
       "      <td>2019-04-01 01:07:00</td>\n",
       "      <td>2019-04-01</td>\n",
       "      <td>0 days 00:59:00</td>\n",
       "      <td>59.0</td>\n",
       "      <td>False</td>\n",
       "    </tr>\n",
       "    <tr>\n",
       "      <th>3</th>\n",
       "      <td>3674031</td>\n",
       "      <td>74731268</td>\n",
       "      <td>english</td>\n",
       "      <td>2019-04-01 00:09:00</td>\n",
       "      <td>2019-04-04 14:56:00</td>\n",
       "      <td>2019-04-01</td>\n",
       "      <td>3 days 14:47:00</td>\n",
       "      <td>5207.0</td>\n",
       "      <td>True</td>\n",
       "    </tr>\n",
       "    <tr>\n",
       "      <th>4</th>\n",
       "      <td>3675019</td>\n",
       "      <td>450996499</td>\n",
       "      <td>english</td>\n",
       "      <td>2019-04-01 00:12:00</td>\n",
       "      <td>2019-04-01 00:18:00</td>\n",
       "      <td>2019-04-01</td>\n",
       "      <td>0 days 00:06:00</td>\n",
       "      <td>6.0</td>\n",
       "      <td>False</td>\n",
       "    </tr>\n",
       "  </tbody>\n",
       "</table>\n",
       "</div>"
      ],
      "text/plain": [
       "        id  assignee_id requester_language        created_time  \\\n",
       "0  3674186    449058839            english 2019-04-01 00:05:00   \n",
       "1  3674340    611940426            english 2019-04-01 00:07:00   \n",
       "2  3674096    636234043            english 2019-04-01 00:08:00   \n",
       "3  3674031     74731268            english 2019-04-01 00:09:00   \n",
       "4  3675019    450996499            english 2019-04-01 00:12:00   \n",
       "\n",
       "          solved_time created_date             AHT  aht_minutes  gt1dayfilter  \n",
       "0 2019-04-01 00:28:00   2019-04-01 0 days 00:23:00         23.0         False  \n",
       "1 2019-04-02 09:58:00   2019-04-01 1 days 09:51:00       2031.0          True  \n",
       "2 2019-04-01 01:07:00   2019-04-01 0 days 00:59:00         59.0         False  \n",
       "3 2019-04-04 14:56:00   2019-04-01 3 days 14:47:00       5207.0          True  \n",
       "4 2019-04-01 00:18:00   2019-04-01 0 days 00:06:00          6.0         False  "
      ]
     },
     "execution_count": 47,
     "metadata": {},
     "output_type": "execute_result"
    }
   ],
   "source": [
    "filtered_data.head()"
   ]
  },
  {
   "cell_type": "code",
   "execution_count": 48,
   "metadata": {},
   "outputs": [
    {
     "data": {
      "text/plain": [
       "gt1dayfilter\n",
       "False    222762\n",
       "True     281280\n",
       "Name: id, dtype: int64"
      ]
     },
     "execution_count": 48,
     "metadata": {},
     "output_type": "execute_result"
    }
   ],
   "source": [
    "filtered_data.groupby(['gt1dayfilter'])['id'].count()"
   ]
  },
  {
   "cell_type": "code",
   "execution_count": 11,
   "metadata": {},
   "outputs": [],
   "source": [
    "df = support_data.groupby(['created_date','requester_language'], as_index= False)['id'].count()"
   ]
  },
  {
   "cell_type": "code",
   "execution_count": 12,
   "metadata": {},
   "outputs": [
    {
     "data": {
      "text/html": [
       "<div>\n",
       "<style scoped>\n",
       "    .dataframe tbody tr th:only-of-type {\n",
       "        vertical-align: middle;\n",
       "    }\n",
       "\n",
       "    .dataframe tbody tr th {\n",
       "        vertical-align: top;\n",
       "    }\n",
       "\n",
       "    .dataframe thead th {\n",
       "        text-align: right;\n",
       "    }\n",
       "</style>\n",
       "<table border=\"1\" class=\"dataframe\">\n",
       "  <thead>\n",
       "    <tr style=\"text-align: right;\">\n",
       "      <th></th>\n",
       "      <th>created_date</th>\n",
       "      <th>requester_language</th>\n",
       "      <th>id</th>\n",
       "    </tr>\n",
       "  </thead>\n",
       "  <tbody>\n",
       "    <tr>\n",
       "      <th>0</th>\n",
       "      <td>2019-04-01</td>\n",
       "      <td>chinese</td>\n",
       "      <td>2</td>\n",
       "    </tr>\n",
       "    <tr>\n",
       "      <th>1</th>\n",
       "      <td>2019-04-01</td>\n",
       "      <td>czech</td>\n",
       "      <td>2</td>\n",
       "    </tr>\n",
       "    <tr>\n",
       "      <th>2</th>\n",
       "      <td>2019-04-01</td>\n",
       "      <td>dutch</td>\n",
       "      <td>13</td>\n",
       "    </tr>\n",
       "    <tr>\n",
       "      <th>3</th>\n",
       "      <td>2019-04-01</td>\n",
       "      <td>english</td>\n",
       "      <td>680</td>\n",
       "    </tr>\n",
       "    <tr>\n",
       "      <th>4</th>\n",
       "      <td>2019-04-01</td>\n",
       "      <td>french</td>\n",
       "      <td>87</td>\n",
       "    </tr>\n",
       "  </tbody>\n",
       "</table>\n",
       "</div>"
      ],
      "text/plain": [
       "  created_date requester_language   id\n",
       "0   2019-04-01            chinese    2\n",
       "1   2019-04-01              czech    2\n",
       "2   2019-04-01              dutch   13\n",
       "3   2019-04-01            english  680\n",
       "4   2019-04-01             french   87"
      ]
     },
     "execution_count": 12,
     "metadata": {},
     "output_type": "execute_result"
    }
   ],
   "source": [
    "df.head()"
   ]
  },
  {
   "cell_type": "code",
   "execution_count": 13,
   "metadata": {},
   "outputs": [],
   "source": [
    "df.rename(columns={'id':'total_requests'}, inplace=True)"
   ]
  },
  {
   "cell_type": "code",
   "execution_count": 14,
   "metadata": {},
   "outputs": [],
   "source": [
    "df['total_agents'] = support_data.groupby(['created_date','requester_language'], as_index= False).assignee_id.nunique()"
   ]
  },
  {
   "cell_type": "code",
   "execution_count": 15,
   "metadata": {},
   "outputs": [],
   "source": [
    "df.to_csv('support_aggregated.csv', index=False)"
   ]
  },
  {
   "cell_type": "code",
   "execution_count": 37,
   "metadata": {},
   "outputs": [
    {
     "data": {
      "text/html": [
       "<div>\n",
       "<style scoped>\n",
       "    .dataframe tbody tr th:only-of-type {\n",
       "        vertical-align: middle;\n",
       "    }\n",
       "\n",
       "    .dataframe tbody tr th {\n",
       "        vertical-align: top;\n",
       "    }\n",
       "\n",
       "    .dataframe thead th {\n",
       "        text-align: right;\n",
       "    }\n",
       "</style>\n",
       "<table border=\"1\" class=\"dataframe\">\n",
       "  <thead>\n",
       "    <tr style=\"text-align: right;\">\n",
       "      <th></th>\n",
       "      <th>created_date</th>\n",
       "      <th>requester_language</th>\n",
       "      <th>total_requests</th>\n",
       "      <th>total_agents</th>\n",
       "    </tr>\n",
       "  </thead>\n",
       "  <tbody>\n",
       "    <tr>\n",
       "      <th>0</th>\n",
       "      <td>2019-04-01</td>\n",
       "      <td>chinese</td>\n",
       "      <td>2</td>\n",
       "      <td>2</td>\n",
       "    </tr>\n",
       "    <tr>\n",
       "      <th>1</th>\n",
       "      <td>2019-04-01</td>\n",
       "      <td>czech</td>\n",
       "      <td>2</td>\n",
       "      <td>2</td>\n",
       "    </tr>\n",
       "    <tr>\n",
       "      <th>2</th>\n",
       "      <td>2019-04-01</td>\n",
       "      <td>dutch</td>\n",
       "      <td>13</td>\n",
       "      <td>13</td>\n",
       "    </tr>\n",
       "    <tr>\n",
       "      <th>3</th>\n",
       "      <td>2019-04-01</td>\n",
       "      <td>english</td>\n",
       "      <td>680</td>\n",
       "      <td>367</td>\n",
       "    </tr>\n",
       "    <tr>\n",
       "      <th>4</th>\n",
       "      <td>2019-04-01</td>\n",
       "      <td>french</td>\n",
       "      <td>87</td>\n",
       "      <td>60</td>\n",
       "    </tr>\n",
       "  </tbody>\n",
       "</table>\n",
       "</div>"
      ],
      "text/plain": [
       "  created_date requester_language  total_requests  total_agents\n",
       "0   2019-04-01            chinese               2             2\n",
       "1   2019-04-01              czech               2             2\n",
       "2   2019-04-01              dutch              13            13\n",
       "3   2019-04-01            english             680           367\n",
       "4   2019-04-01             french              87            60"
      ]
     },
     "execution_count": 37,
     "metadata": {},
     "output_type": "execute_result"
    }
   ],
   "source": [
    "df.head()"
   ]
  },
  {
   "cell_type": "code",
   "execution_count": 40,
   "metadata": {},
   "outputs": [
    {
     "ename": "NameError",
     "evalue": "name 'Days' is not defined",
     "output_type": "error",
     "traceback": [
      "\u001b[1;31m---------------------------------------------------------------------------\u001b[0m",
      "\u001b[1;31mNameError\u001b[0m                                 Traceback (most recent call last)",
      "\u001b[1;32m<ipython-input-40-4bf78dc5c08d>\u001b[0m in \u001b[0;36m<module>\u001b[1;34m\u001b[0m\n\u001b[1;32m----> 1\u001b[1;33m \u001b[0mfiltered_data\u001b[0m\u001b[1;33m[\u001b[0m\u001b[1;34m'more_than_1_day'\u001b[0m\u001b[1;33m]\u001b[0m \u001b[1;33m=\u001b[0m \u001b[0mfiltered_data\u001b[0m\u001b[1;33m[\u001b[0m\u001b[1;34m'AHT'\u001b[0m\u001b[1;33m]\u001b[0m  \u001b[1;33m>\u001b[0m \u001b[0mpd\u001b[0m\u001b[1;33m.\u001b[0m\u001b[0mTimedelta\u001b[0m\u001b[1;33m(\u001b[0m\u001b[0mDays\u001b[0m \u001b[1;33m>=\u001b[0m\u001b[1;36m1\u001b[0m\u001b[1;33m)\u001b[0m\u001b[1;33m\u001b[0m\u001b[1;33m\u001b[0m\u001b[0m\n\u001b[0m",
      "\u001b[1;31mNameError\u001b[0m: name 'Days' is not defined"
     ]
    }
   ],
   "source": [
    "filtered_data['more_than_1_day'] = filtered_data['AHT']  > pd.Timedelta(Days >=1)"
   ]
  },
  {
   "cell_type": "code",
   "execution_count": 49,
   "metadata": {},
   "outputs": [
    {
     "ename": "ModuleNotFoundError",
     "evalue": "No module named 'pmdarima'",
     "output_type": "error",
     "traceback": [
      "\u001b[1;31m---------------------------------------------------------------------------\u001b[0m",
      "\u001b[1;31mModuleNotFoundError\u001b[0m                       Traceback (most recent call last)",
      "\u001b[1;32m<ipython-input-49-927345c35ed5>\u001b[0m in \u001b[0;36m<module>\u001b[1;34m\u001b[0m\n\u001b[1;32m----> 1\u001b[1;33m \u001b[1;32mfrom\u001b[0m \u001b[0mpmdarima\u001b[0m \u001b[1;32mimport\u001b[0m \u001b[0mauto_arima\u001b[0m\u001b[1;33m\u001b[0m\u001b[1;33m\u001b[0m\u001b[0m\n\u001b[0m",
      "\u001b[1;31mModuleNotFoundError\u001b[0m: No module named 'pmdarima'"
     ]
    }
   ],
   "source": [
    "from pmdarima import auto_arima "
   ]
  },
  {
   "cell_type": "code",
   "execution_count": 50,
   "metadata": {},
   "outputs": [
    {
     "name": "stdout",
     "output_type": "stream",
     "text": [
      "Note: you may need to restart the kernel to use updated packages.Collecting pmdarima\n"
     ]
    },
    {
     "name": "stderr",
     "output_type": "stream",
     "text": [
      "WARNING: Retrying (Retry(total=4, connect=None, read=None, redirect=None, status=None)) after connection broken by 'ReadTimeoutError(\"HTTPSConnectionPool(host='pypi.org', port=443): Read timed out. (read timeout=15)\")': /simple/pmdarima/"
     ]
    },
    {
     "name": "stdout",
     "output_type": "stream",
     "text": [
      "\n",
      "  Downloading pmdarima-1.7.1-cp38-cp38-win_amd64.whl (614 kB)\n",
      "Requirement already satisfied: statsmodels<0.12,>=0.11 in c:\\programdata\\anaconda3\\lib\\site-packages (from pmdarima) (0.11.1)\n",
      "Requirement already satisfied: pandas>=0.19 in c:\\programdata\\anaconda3\\lib\\site-packages (from pmdarima) (1.0.5)\n",
      "Requirement already satisfied: scikit-learn>=0.22 in c:\\programdata\\anaconda3\\lib\\site-packages (from pmdarima) (0.23.1)\n",
      "Collecting Cython<0.29.18,>=0.29\n",
      "  Downloading Cython-0.29.17-cp38-cp38-win_amd64.whl (1.7 MB)\n",
      "Requirement already satisfied: joblib>=0.11 in c:\\programdata\\anaconda3\\lib\\site-packages (from pmdarima) (0.16.0)\n",
      "Requirement already satisfied: numpy>=1.17.3 in c:\\programdata\\anaconda3\\lib\\site-packages (from pmdarima) (1.18.5)\n",
      "Requirement already satisfied: urllib3 in c:\\programdata\\anaconda3\\lib\\site-packages (from pmdarima) (1.25.9)\n",
      "Requirement already satisfied: scipy>=1.3.2 in c:\\programdata\\anaconda3\\lib\\site-packages (from pmdarima) (1.5.0)\n",
      "Requirement already satisfied: setuptools<50.0.0 in c:\\programdata\\anaconda3\\lib\\site-packages (from pmdarima) (49.2.0.post20200714)\n",
      "Requirement already satisfied: patsy>=0.5 in c:\\programdata\\anaconda3\\lib\\site-packages (from statsmodels<0.12,>=0.11->pmdarima) (0.5.1)\n",
      "Requirement already satisfied: pytz>=2017.2 in c:\\programdata\\anaconda3\\lib\\site-packages (from pandas>=0.19->pmdarima) (2020.1)\n",
      "Requirement already satisfied: python-dateutil>=2.6.1 in c:\\programdata\\anaconda3\\lib\\site-packages (from pandas>=0.19->pmdarima) (2.8.1)\n",
      "Requirement already satisfied: threadpoolctl>=2.0.0 in c:\\programdata\\anaconda3\\lib\\site-packages (from scikit-learn>=0.22->pmdarima) (2.1.0)\n",
      "Requirement already satisfied: six in c:\\programdata\\anaconda3\\lib\\site-packages (from patsy>=0.5->statsmodels<0.12,>=0.11->pmdarima) (1.15.0)\n",
      "Installing collected packages: Cython, pmdarima\n",
      "  Attempting uninstall: Cython\n",
      "    Found existing installation: Cython 0.29.21\n",
      "    Uninstalling Cython-0.29.21:\n"
     ]
    },
    {
     "name": "stderr",
     "output_type": "stream",
     "text": [
      "\n",
      "  WARNING: Retrying (Retry(total=4, connect=None, read=None, redirect=None, status=None)) after connection broken by 'ReadTimeoutError(\"HTTPSConnectionPool(host='files.pythonhosted.org', port=443): Read timed out. (read timeout=15)\")': /packages/a6/cb/80bb617bf791a549cfe2bef1fae9df1411c784cff0fd5aca048f4eb43348/pmdarima-1.7.1-cp38-cp38-win_amd64.whl\n",
      "ERROR: Could not install packages due to an EnvironmentError: [WinError 5] Access is denied: 'c:\\\\programdata\\\\anaconda3\\\\lib\\\\site-packages\\\\__pycache__\\\\cython.cpython-38.pyc'\n",
      "Consider using the `--user` option or check the permissions.\n",
      "\n"
     ]
    }
   ],
   "source": [
    "pip install pmdarima"
   ]
  },
  {
   "cell_type": "code",
   "execution_count": null,
   "metadata": {},
   "outputs": [],
   "source": []
  }
 ],
 "metadata": {
  "kernelspec": {
   "display_name": "Python 3",
   "language": "python",
   "name": "python3"
  },
  "language_info": {
   "codemirror_mode": {
    "name": "ipython",
    "version": 3
   },
   "file_extension": ".py",
   "mimetype": "text/x-python",
   "name": "python",
   "nbconvert_exporter": "python",
   "pygments_lexer": "ipython3",
   "version": "3.8.3"
  }
 },
 "nbformat": 4,
 "nbformat_minor": 4
}
