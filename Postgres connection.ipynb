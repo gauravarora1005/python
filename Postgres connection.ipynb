{
 "cells": [
  {
   "cell_type": "code",
   "execution_count": 1,
   "metadata": {},
   "outputs": [
    {
     "ename": "NameError",
     "evalue": "name 'python' is not defined",
     "output_type": "error",
     "traceback": [
      "\u001b[1;31m---------------------------------------------------------------------------\u001b[0m",
      "\u001b[1;31mNameError\u001b[0m                                 Traceback (most recent call last)",
      "\u001b[1;32m<ipython-input-1-a4637bbefc43>\u001b[0m in \u001b[0;36m<module>\u001b[1;34m\u001b[0m\n\u001b[1;32m----> 1\u001b[1;33m \u001b[0mpython\u001b[0m \u001b[1;33m-\u001b[0m\u001b[1;33m-\u001b[0m\u001b[0mversion\u001b[0m\u001b[1;33m\u001b[0m\u001b[1;33m\u001b[0m\u001b[0m\n\u001b[0m",
      "\u001b[1;31mNameError\u001b[0m: name 'python' is not defined"
     ]
    }
   ],
   "source": [
    "python --version"
   ]
  },
  {
   "cell_type": "code",
   "execution_count": 2,
   "metadata": {},
   "outputs": [],
   "source": [
    "import pandas as pd"
   ]
  },
  {
   "cell_type": "code",
   "execution_count": 3,
   "metadata": {},
   "outputs": [
    {
     "name": "stdout",
     "output_type": "stream",
     "text": [
      "0.25.1\n"
     ]
    }
   ],
   "source": [
    "print(pd.__version__)"
   ]
  },
  {
   "cell_type": "code",
   "execution_count": 4,
   "metadata": {},
   "outputs": [
    {
     "name": "stdout",
     "output_type": "stream",
     "text": [
      "\n",
      "INSTALLED VERSIONS\n",
      "------------------\n",
      "commit           : None\n",
      "python           : 3.7.4.final.0\n",
      "python-bits      : 64\n",
      "OS               : Windows\n",
      "OS-release       : 10\n",
      "machine          : AMD64\n",
      "processor        : Intel64 Family 6 Model 142 Stepping 12, GenuineIntel\n",
      "byteorder        : little\n",
      "LC_ALL           : None\n",
      "LANG             : None\n",
      "LOCALE           : None.None\n",
      "\n",
      "pandas           : 0.25.1\n",
      "numpy            : 1.16.5\n",
      "pytz             : 2019.3\n",
      "dateutil         : 2.8.0\n",
      "pip              : 19.2.3\n",
      "setuptools       : 41.4.0\n",
      "Cython           : 0.29.13\n",
      "pytest           : 5.2.1\n",
      "hypothesis       : None\n",
      "sphinx           : 2.2.0\n",
      "blosc            : None\n",
      "feather          : None\n",
      "xlsxwriter       : 1.2.1\n",
      "lxml.etree       : 4.4.1\n",
      "html5lib         : 1.0.1\n",
      "pymysql          : None\n",
      "psycopg2         : None\n",
      "jinja2           : 2.10.3\n",
      "IPython          : 7.8.0\n",
      "pandas_datareader: None\n",
      "bs4              : 4.8.0\n",
      "bottleneck       : 1.2.1\n",
      "fastparquet      : None\n",
      "gcsfs            : None\n",
      "lxml.etree       : 4.4.1\n",
      "matplotlib       : 3.1.1\n",
      "numexpr          : 2.7.0\n",
      "odfpy            : None\n",
      "openpyxl         : 3.0.0\n",
      "pandas_gbq       : None\n",
      "pyarrow          : None\n",
      "pytables         : None\n",
      "s3fs             : None\n",
      "scipy            : 1.3.1\n",
      "sqlalchemy       : 1.3.9\n",
      "tables           : 3.5.2\n",
      "xarray           : None\n",
      "xlrd             : 1.2.0\n",
      "xlwt             : 1.3.0\n",
      "xlsxwriter       : 1.2.1\n"
     ]
    }
   ],
   "source": [
    "pd.show_versions()"
   ]
  },
  {
   "cell_type": "code",
   "execution_count": 5,
   "metadata": {},
   "outputs": [
    {
     "name": "stdout",
     "output_type": "stream",
     "text": [
      "Collecting package metadata (current_repodata.json): ...working... done\n",
      "Solving environment: ...working... \n",
      "\n",
      "Updating pandas is constricted by \n",
      "\n",
      "anaconda -> requires pandas==0.25.1=py37ha925a31_0\n",
      "\n",
      "If you are sure you want an update of your package either try `conda update --all` or install a specific version of the package you want using `conda install <pkg>=<version>`\n",
      "\n",
      "done\n",
      "\n",
      "## Package Plan ##\n",
      "\n",
      "  environment location: C:\\ProgramData\\Anaconda3\n",
      "\n",
      "  added / updated specs:\n",
      "    - pandas\n",
      "\n",
      "\n",
      "The following packages will be downloaded:\n",
      "\n",
      "    package                    |            build\n",
      "    ---------------------------|-----------------\n",
      "    backports.functools_lru_cache-1.6.1|             py_0          11 KB\n",
      "    conda-4.8.1                |           py37_0         2.8 MB\n",
      "    future-0.18.2              |           py37_0         656 KB\n",
      "    ------------------------------------------------------------\n",
      "                                           Total:         3.5 MB\n",
      "\n",
      "The following packages will be UPDATED:\n",
      "\n",
      "  backports.functoo~                               1.5-py_2 --> 1.6.1-py_0\n",
      "  conda                                       4.7.12-py37_0 --> 4.8.1-py37_0\n",
      "  future                                      0.17.1-py37_0 --> 0.18.2-py37_0\n",
      "\n",
      "\n",
      "\n",
      "Downloading and Extracting Packages\n",
      "\n",
      "future-0.18.2        | 656 KB    |            |   0% \n",
      "future-0.18.2        | 656 KB    | 2          |   2% \n",
      "future-0.18.2        | 656 KB    | #9         |  20% \n",
      "future-0.18.2        | 656 KB    | ###4       |  34% \n",
      "future-0.18.2        | 656 KB    | #########7 |  98% \n",
      "future-0.18.2        | 656 KB    | ########## | 100% \n",
      "\n",
      "conda-4.8.1          | 2.8 MB    |            |   0% \n",
      "conda-4.8.1          | 2.8 MB    | 3          |   4% \n",
      "conda-4.8.1          | 2.8 MB    | #5         |  15% \n",
      "conda-4.8.1          | 2.8 MB    | #9         |  19% \n",
      "conda-4.8.1          | 2.8 MB    | ##2        |  23% \n",
      "conda-4.8.1          | 2.8 MB    | ####1      |  42% \n",
      "conda-4.8.1          | 2.8 MB    | #####7     |  58% \n",
      "conda-4.8.1          | 2.8 MB    | ######7    |  67% \n",
      "conda-4.8.1          | 2.8 MB    | #########7 |  97% \n",
      "conda-4.8.1          | 2.8 MB    | ########## | 100% \n",
      "\n",
      "backports.functools_ | 11 KB     |            |   0% \n",
      "backports.functools_ | 11 KB     | ########## | 100% \n",
      "Preparing transaction: ...working... done\n",
      "Verifying transaction: ...working... failed\n",
      "\n",
      "Note: you may need to restart the kernel to use updated packages.\n"
     ]
    },
    {
     "name": "stderr",
     "output_type": "stream",
     "text": [
      "\n",
      "EnvironmentNotWritableError: The current user does not have write permissions to the target environment.\n",
      "  environment location: C:\\ProgramData\\Anaconda3\n",
      "\n",
      "\n"
     ]
    }
   ],
   "source": [
    "conda update pandas"
   ]
  },
  {
   "cell_type": "code",
   "execution_count": 6,
   "metadata": {},
   "outputs": [
    {
     "ename": "SyntaxError",
     "evalue": "invalid syntax (<ipython-input-6-03f53855b89e>, line 1)",
     "output_type": "error",
     "traceback": [
      "\u001b[1;36m  File \u001b[1;32m\"<ipython-input-6-03f53855b89e>\"\u001b[1;36m, line \u001b[1;32m1\u001b[0m\n\u001b[1;33m    $conda update pandas\u001b[0m\n\u001b[1;37m    ^\u001b[0m\n\u001b[1;31mSyntaxError\u001b[0m\u001b[1;31m:\u001b[0m invalid syntax\n"
     ]
    }
   ],
   "source": [
    "$conda update pandas"
   ]
  },
  {
   "cell_type": "code",
   "execution_count": 10,
   "metadata": {},
   "outputs": [
    {
     "name": "stdout",
     "output_type": "stream",
     "text": [
      "Collecting pandas==1.0.0rc0\n",
      "  Using cached https://files.pythonhosted.org/packages/e7/c4/ef02d0fa346cdbc4884788e7faf2b9c9cfe9e717550aa8fe89c7d86f94ca/pandas-1.0.0rc0-cp37-cp37m-win_amd64.whl\n",
      "Requirement already satisfied, skipping upgrade: pytz>=2017.2 in c:\\programdata\\anaconda3\\lib\\site-packages (from pandas==1.0.0rc0) (2019.3)\n",
      "Requirement already satisfied, skipping upgrade: numpy>=1.13.3 in c:\\programdata\\anaconda3\\lib\\site-packages (from pandas==1.0.0rc0) (1.16.5)\n",
      "Requirement already satisfied, skipping upgrade: python-dateutil>=2.6.1 in c:\\programdata\\anaconda3\\lib\\site-packages (from pandas==1.0.0rc0) (2.8.0)\n",
      "Requirement already satisfied, skipping upgrade: six>=1.5 in c:\\programdata\\anaconda3\\lib\\site-packages (from python-dateutil>=2.6.1->pandas==1.0.0rc0) (1.12.0)\n",
      "Installing collected packages: pandas\n",
      "Successfully installed pandas-1.0.0rc0\n",
      "Note: you may need to restart the kernel to use updated packages.\n"
     ]
    }
   ],
   "source": [
    "pip install --user --upgrade --pre pandas==1.0.0rc0"
   ]
  },
  {
   "cell_type": "code",
   "execution_count": 2,
   "metadata": {},
   "outputs": [
    {
     "name": "stdout",
     "output_type": "stream",
     "text": [
      "1.0.0rc0\n"
     ]
    }
   ],
   "source": [
    "import pandas as pd\n",
    "print(pd.__version__)"
   ]
  },
  {
   "cell_type": "code",
   "execution_count": 3,
   "metadata": {},
   "outputs": [
    {
     "name": "stdout",
     "output_type": "stream",
     "text": [
      "Collecting psycopg2\n",
      "  Downloading https://files.pythonhosted.org/packages/1a/85/853f11abfccfd581b099e5ae5f2dd807cc2919745b13d14e565022fd821c/psycopg2-2.8.4-cp37-cp37m-win_amd64.whl (1.1MB)\n",
      "Installing collected packages: psycopg2\n",
      "Successfully installed psycopg2-2.8.4\n",
      "Note: you may need to restart the kernel to use updated packages.\n"
     ]
    }
   ],
   "source": [
    "pip install psycopg2"
   ]
  },
  {
   "cell_type": "code",
   "execution_count": 4,
   "metadata": {},
   "outputs": [],
   "source": [
    "import psycopg2 as db"
   ]
  },
  {
   "cell_type": "code",
   "execution_count": 7,
   "metadata": {},
   "outputs": [],
   "source": [
    "con = db.connect( host='localhost', user='postgres', password='postgres', dbname='learning')"
   ]
  },
  {
   "cell_type": "code",
   "execution_count": 8,
   "metadata": {},
   "outputs": [],
   "source": [
    "cur = con.cursor()"
   ]
  },
  {
   "cell_type": "code",
   "execution_count": 19,
   "metadata": {},
   "outputs": [],
   "source": [
    "cur.execute(\"select * from basic.infoica\")"
   ]
  },
  {
   "cell_type": "code",
   "execution_count": 14,
   "metadata": {},
   "outputs": [],
   "source": [
    "query_results = cur.fetchall()\n",
    "\n",
    "import pandas as pd\n",
    "\n",
    "df = pd.DataFrame(query_results)\n",
    "\n",
    "#print(query_results)"
   ]
  },
  {
   "cell_type": "code",
   "execution_count": 15,
   "metadata": {},
   "outputs": [
    {
     "data": {
      "text/html": [
       "<div>\n",
       "<style scoped>\n",
       "    .dataframe tbody tr th:only-of-type {\n",
       "        vertical-align: middle;\n",
       "    }\n",
       "\n",
       "    .dataframe tbody tr th {\n",
       "        vertical-align: top;\n",
       "    }\n",
       "\n",
       "    .dataframe thead th {\n",
       "        text-align: right;\n",
       "    }\n",
       "</style>\n",
       "<table border=\"1\" class=\"dataframe\">\n",
       "  <thead>\n",
       "    <tr style=\"text-align: right;\">\n",
       "      <th></th>\n",
       "    </tr>\n",
       "  </thead>\n",
       "  <tbody>\n",
       "  </tbody>\n",
       "</table>\n",
       "</div>"
      ],
      "text/plain": [
       "Empty DataFrame\n",
       "Columns: []\n",
       "Index: []"
      ]
     },
     "execution_count": 15,
     "metadata": {},
     "output_type": "execute_result"
    }
   ],
   "source": [
    "df.head()"
   ]
  },
  {
   "cell_type": "code",
   "execution_count": 16,
   "metadata": {},
   "outputs": [
    {
     "data": {
      "text/html": [
       "<div>\n",
       "<style scoped>\n",
       "    .dataframe tbody tr th:only-of-type {\n",
       "        vertical-align: middle;\n",
       "    }\n",
       "\n",
       "    .dataframe tbody tr th {\n",
       "        vertical-align: top;\n",
       "    }\n",
       "\n",
       "    .dataframe thead th {\n",
       "        text-align: right;\n",
       "    }\n",
       "</style>\n",
       "<table border=\"1\" class=\"dataframe\">\n",
       "  <thead>\n",
       "    <tr style=\"text-align: right;\">\n",
       "      <th></th>\n",
       "    </tr>\n",
       "  </thead>\n",
       "  <tbody>\n",
       "  </tbody>\n",
       "</table>\n",
       "</div>"
      ],
      "text/plain": [
       "Empty DataFrame\n",
       "Columns: []\n",
       "Index: []"
      ]
     },
     "execution_count": 16,
     "metadata": {},
     "output_type": "execute_result"
    }
   ],
   "source": [
    "df"
   ]
  },
  {
   "cell_type": "code",
   "execution_count": 18,
   "metadata": {},
   "outputs": [
    {
     "name": "stdout",
     "output_type": "stream",
     "text": [
      "[]\n"
     ]
    }
   ],
   "source": [
    "print(query_results)"
   ]
  },
  {
   "cell_type": "code",
   "execution_count": 20,
   "metadata": {},
   "outputs": [],
   "source": [
    "query_results = cur.fetchall()"
   ]
  },
  {
   "cell_type": "code",
   "execution_count": 22,
   "metadata": {
    "collapsed": true
   },
   "outputs": [
    {
     "name": "stdout",
     "output_type": "stream",
     "text": [
      "[(32416, 'Tanya Adah Agarwal', 'CON', '23-11-2012', 862145, 34065, 29, 1401, 1345, 70), (32417, 'Tanvi Adhira Agate', 'PRO', '25-02-2015', 647757, 50567, 31, 900, 891, 513), (32418, 'Rohit Alisha Aggarwal', 'PRO', '04-07-2017', 3482328, 54485, 31, 1789, 1556, 429), (32419, 'Vani Amoli Agrawal', 'PRO', '05-09-2007', 1166319, 50912, 26, 1309, 1309, 825), (32420, 'Yash Anaisha Ahluwalia', 'PRO', '05-03-2019', 867243, 46644, 25, 1569, 1443, 94), (32421, 'Shreya Ananya Ahuja', 'PRO', '16-12-2011', 4429152, 59452, 31, 2145, 2016, 472), (32422, 'Shyam Anika Amble', 'PRO', '23-03-2018', 3595680, 44935, 31, 2018, 1816, 1493), (32423, 'Riya Anushka Anand', 'PRO', '19-05-2017', 1472768, 18839, 31, 1162, 1046, 35), (32424, 'Sneha Asmee Andra', 'CON', '10-01-2015', 674968, 32118, 28, 709, 709, 21), (32425, 'Raj Avni Anne', 'CON', '25-03-2007', 3451010, 55594, 0, 1627, 1594, 49), (32426, 'Varsha Carina Apte', 'CON', '22-09-2007', 3842772, 33241, 0, 1864, 1789, 56), (32427, 'Rakesh Drishti Arora', 'CON', '23-06-2013', 3661830, 29497, 0, 1848, 1830, 55), (32428, 'Shivangi Hiya Arya', 'PRO', '24-07-2019', 3883308, 51226, 0, 1865, 1716, 205), (32429, 'Ramya Ira Atwal', 'PRO', '04-11-2016', 526967, 52879, 0, 1008, 907, 524), (32430, 'Vinay Ishana Aurora', 'PRO', '19-06-2005', 415977, 30742, 0, 958, 939, 517), (32431, 'Shivani Ishita Babu', 'PRO', '11-12-2015', 1686744, 42829, 0, 1204, 1096, 638), (32432, 'Vivek Kaia Badal', 'CON', '08-02-2015', 4003030, 55574, 0, 1781, 1745, 178), (32433, 'Suhani Kashvi Badami', 'CON', '09-12-2011', 2513244, 54181, 29, 1576, 1387, 961), (32434, 'Soham Keya Bahl', 'CON', '13-09-2016', 2928750, 44379, 27, 1404, 1250, 772), (32435, 'Seema Kimaya Bahri', 'CON', '15-11-2014', 1396176, 28164, 30, 1102, 1003, 386), (32436, 'Rohan Krisha Bail', 'CON', '26-04-2016', 3616325, 23128, 28, 1861, 1675, 1098), (32437, 'Simran Larisa Bains', 'CON', '20-02-2019', 1245986, 46916, 28, 1621, 1459, 956), (32438, 'Rishabh Mahika Bajaj', 'CON', '16-07-2005', 2853059, 30365, 26, 1632, 1387, 653), (32439, 'Tanu Mayra Bajwa', 'CON', '26-12-2017', 666060, 56192, 30, 702, 653, 274), (32440, 'Vaibhav Mehar Bakshi', 'CON', '07-06-2014', 817936, 24171, 28, 1078, 938, 614), (32441, 'Vishal Mirai Bal', 'CON', '09-05-2005', 837062, 44844, 26, 1533, 1426, 77), (32442, 'Vikas Mishka Bala', 'CON', '21-08-2014', 2523979, 39169, 29, 1929, 1871, 1177), (32443, 'Raju Naitee Bala', 'CON', '21-06-2019', 1527904, 28506, 28, 748, 718, 561), (32444, 'Siya Navya Balakrishnan', 'CON', '07-03-2010', 631544, 53719, 26, 924, 887, 5), (32445, 'Shivam Nehrika Balan', 'CON', '07-08-2010', 752813, 41177, 30, 1794, 1633, 18), (32446, 'Rishita Neysa Balasubramanian', 'CON', '25-11-2006', 2100580, 31250, 25, 1923, 1654, 19), (32447, 'Shrinidhi Pavati Balay', 'CON', '02-01-2011', 2724656, 40418, 25, 1674, 1507, 17), (32448, 'Varun Prisha Bali', 'CON', '03-07-2009', 1080350, 43442, 29, 1437, 1394, 14), (32449, 'Rhea Ryka Bandi', 'CON', '17-02-2009', 1796288, 51560, 29, 1145, 1088, 298), (32450, 'Rutuja Rebecca Banerjee', 'CON', '16-05-2015', 592074, 24978, 27, 809, 777, 502), (32451, 'Sunny Saanvi Banik', 'CON', '10-10-2005', 3664521, 24800, 29, 2166, 1863, 671), (32452, 'Siddharth Sahana Bansal', 'CON', '03-09-2007', 811962, 39693, 25, 1177, 1142, 106), (32453, 'Vedant Sai Barad', 'CON', '25-01-2005', 2181025, 16882, 25, 2187, 1925, 744), (32454, 'Shashank Saisha Barad', 'CON', '23-03-2014', 1674720, 28883, 30, 1251, 1163, 88), (32455, 'Tisha Saloni Baral', 'CON', '19-06-2016', 1524900, 58082, 26, 1242, 1105, 186), (32456, 'Ram Shanaya Baria', 'CON', '03-01-2011', 872320, 55653, 25, 1106, 940, 719), (32457, 'Swati Shrishti Barman', 'CON', '21-10-2016', 1088500, 47033, 30, 778, 700, 109), (32458, 'Ria Sneha Basak', 'CON', '25-11-2019', 4277280, 15653, 25, 1996, 1876, 798), (32459, 'Sumit Taahira Bassi', 'CON', '10-09-2009', 3344250, 39098, 31, 1709, 1470, 325), (32460, 'Shekhar Taara Basu', 'CON', '02-04-2013', 1126500, 32897, 29, 1685, 1500, 118), (32461, 'Shaan Tanvi Bath', 'CON', '02-11-2009', 1454940, 52250, 26, 1341, 1180, 684), (32462, 'Shail Viti Batra', 'CON', '21-06-2016', 1302675, 32323, 26, 1595, 1579, 303), (32463, 'Sunil Zara Batta', 'CON', '15-03-2019', 828552, 18446, 29, 1996, 1896, 699), (32464, 'Ramanan Aahva Bava', 'CON', '22-08-2010', 2374027, 16387, 29, 1310, 1153, 157), (32465, 'Rashi Aadiv Bawa', 'CON', '22-07-2011', 1262448, 57857, 29, 1780, 1584, 712), (32466, 'Rajeev Aarav Bedi', 'CON', '15-10-2006', 1341130, 51716, 28, 1851, 1610, 37), (32467, 'Sarah Akanksh Behl', 'CON', '20-09-2012', 351120, 30178, 27, 725, 660, 94), (32468, 'Sasashy Alex Ben', 'CON', '06-01-2011', 437069, 43480, 26, 750, 713, 240), (32469, 'Vaishnavi Anant Bera', 'CON', '24-09-2009', 1164336, 27689, 28, 1181, 1016, 47), (32470, 'Tushar Atiksh Bhagat', 'CON', '08-11-2008', 2940282, 29365, 29, 1333, 1293, 893), (32471, 'Vidhya Ayaan Bhakta', 'CON', '21-03-2014', 4119885, 34546, 29, 1965, 1827, 550), (32472, 'Suresh Bhuv Bhalla', 'CON', '17-11-2010', 1079715, 28545, 29, 1422, 1365, 583), (32473, 'Rahul Dasya Bhandari', 'CON', '09-08-2013', 359315, 27822, 30, 716, 695, 172), (32474, 'Tanya Gian Bhardwaj', 'CON', '01-08-2013', 1302696, 36312, 27, 1019, 978, 336), (32475, 'Tanvi Hem Bhargava', 'CON', '15-07-2015', 851438, 37758, 25, 1061, 997, 753), (32476, 'Rohit Idhant Bhasin', 'CON', '07-09-2008', 578968, 56471, 30, 998, 988, 269), (32477, 'Vani Ishank Bhat', 'CON', '26-05-2012', 1091140, 27454, 25, 1277, 1226, 753), (32478, 'Yash Jash Bhatia', 'CON', '11-01-2005', 1758681, 41557, 25, 830, 789, 257), (32479, 'Shreya Jay Bhatnagar', 'CON', '02-10-2010', 2889512, 25555, 28, 2183, 2008, 480), (32480, 'Shyam Joseph Bhatt', 'CON', '04-12-2017', 1947132, 38283, 30, 1788, 1788, 1162), (32481, 'Riya Kabir Bhattacharyya', 'CON', '01-02-2012', 3928626, 50803, 25, 2037, 1854, 1263), (32482, 'Sneha Kahaan Bhatti', 'CON', '16-03-2005', 935720, 17395, 26, 776, 745, 93), (32483, 'Raj Kairav Bhavsar', 'CON', '17-12-2015', 1749154, 21006, 29, 1887, 1849, 226), (32484, 'Varsha Kevin Bir', 'CON', '14-09-2006', 1246230, 42490, 26, 1234, 1098, 148), (32485, 'Rakesh Laksh Biswas', 'PRO', '12-04-2008', 2476521, 16816, 29, 2104, 1809, 715), (32486, 'Shivangi Luv Boase', 'PRO', '12-01-2014', 2268112, 18490, 27, 1918, 1841, 1247), (32487, 'Ramya Manan Bobal', 'PRO', '19-10-2015', 1669956, 41905, 27, 1930, 1756, 849), (32488, 'Vinay Mohammad Bora', 'PRO', '25-03-2017', 1851827, 56946, 31, 1208, 1123, 133), (32489, 'Shivani Naksh Bora', 'PRO', '11-09-2008', 3927110, 42271, 28, 2111, 2090, 1056), (32490, 'Vivek Nimit Borah', 'PRO', '23-06-2008', 1441086, 46254, 28, 1198, 1042, 887), (32491, 'Suhani Nirav Borde', 'PRO', '19-11-2014', 2908360, 57784, 29, 1828, 1645, 1261), (32492, 'Soham Pahal Borra', 'PRO', '25-06-2007', 2350528, 55695, 25, 1294, 1216, 893), (32493, 'Seema Parv Bose', 'PRO', '11-01-2010', 806664, 42060, 27, 1159, 1159, 267), (32494, 'Rohan Pranay Brahmbhatt', 'PRO', '17-05-2019', 1607571, 37264, 26, 1929, 1659, 1447), (32495, 'Simran Rachit Brar', 'PRO', '22-06-2007', 2971026, 30684, 31, 1565, 1487, 391), (32496, 'Rishabh Raj Buch', 'PRO', '03-02-2007', 2662736, 50967, 31, 1941, 1844, 951), (32497, 'Tanu Ranbir Buch', 'PRO', '09-05-2018', 700532, 25353, 25, 1046, 889, 167), (32498, 'Vaibhav Raunak Bumb', 'PRO', '17-01-2012', 2333488, 55838, 31, 1507, 1492, 738), (32499, 'Vishal Reyansh Butala', 'PRO', '15-06-2012', 718760, 59643, 31, 1188, 1057, 855), (32500, 'Vikas Rishaan Chacko', 'PRO', '14-06-2010', 2034000, 22408, 27, 1944, 1808, 1166), (32501, 'Raju Rishit Chad', 'CON', '25-09-2009', 803264, 54372, 29, 1449, 1304, 174), (32502, 'Siya Rohan Chada', 'CON', '09-06-2017', 4286202, 40461, 31, 2120, 1866, 85), (32503, 'Shivam Rudra Chadha', 'CON', '21-02-2015', 1183815, 50385, 26, 1717, 1665, 1253), (32504, 'Rishita Rushil Chahal', 'CON', '06-12-2010', 1041023, 55166, 25, 703, 647, 246), (32505, 'Shrinidhi Sadhil Chakrabarti', 'CON', '01-04-2016', 766360, 39570, 25, 1114, 980, 78), (32506, 'Varun Sarthak Chakraborty', 'CON', '06-04-2012', 735464, 17669, 31, 1418, 1234, 553), (32507, 'Rhea Taarush Chana', 'CON', '09-07-2016', 908700, 19025, 29, 812, 780, 179), (32508, 'Rutuja Taksh Chand', 'CON', '25-09-2014', 2375954, 50074, 27, 1309, 1139, 890), (32509, 'Sunny Ved Chanda', 'CON', '26-04-2011', 763420, 47428, 29, 1139, 980, 626), (32510, 'Siddharth Vihaan Chander', 'CON', '19-05-2008', 421476, 37925, 0, 725, 682, 537), (32511, 'Vedant Vivaan Chandra', 'CON', '18-08-2012', 942816, 15618, 0, 1240, 1104, 124), (32512, 'Shashank Yash Chandran', 'CON', '13-08-2019', 1088170, 29083, 0, 1922, 1730, 1442), (32513, 'Tisha Yug Char', 'CON', '01-01-2014', 1899225, 22061, 25, 1938, 1725, 465), (32514, 'Ram Zuber Chatterjee', 'PRO', '25-01-2006', 3229248, 39682, 27, 2200, 2112, 1518)]\n"
     ]
    }
   ],
   "source": [
    "print(query_results)"
   ]
  },
  {
   "cell_type": "code",
   "execution_count": 23,
   "metadata": {},
   "outputs": [],
   "source": [
    "df = pd.DataFrame(query_results, )"
   ]
  },
  {
   "cell_type": "code",
   "execution_count": 24,
   "metadata": {},
   "outputs": [
    {
     "data": {
      "text/html": [
       "<div>\n",
       "<style scoped>\n",
       "    .dataframe tbody tr th:only-of-type {\n",
       "        vertical-align: middle;\n",
       "    }\n",
       "\n",
       "    .dataframe tbody tr th {\n",
       "        vertical-align: top;\n",
       "    }\n",
       "\n",
       "    .dataframe thead th {\n",
       "        text-align: right;\n",
       "    }\n",
       "</style>\n",
       "<table border=\"1\" class=\"dataframe\">\n",
       "  <thead>\n",
       "    <tr style=\"text-align: right;\">\n",
       "      <th></th>\n",
       "      <th>0</th>\n",
       "      <th>1</th>\n",
       "      <th>2</th>\n",
       "      <th>3</th>\n",
       "      <th>4</th>\n",
       "      <th>5</th>\n",
       "      <th>6</th>\n",
       "      <th>7</th>\n",
       "      <th>8</th>\n",
       "      <th>9</th>\n",
       "    </tr>\n",
       "  </thead>\n",
       "  <tbody>\n",
       "    <tr>\n",
       "      <th>0</th>\n",
       "      <td>32416</td>\n",
       "      <td>Tanya Adah Agarwal</td>\n",
       "      <td>CON</td>\n",
       "      <td>23-11-2012</td>\n",
       "      <td>862145</td>\n",
       "      <td>34065</td>\n",
       "      <td>29</td>\n",
       "      <td>1401</td>\n",
       "      <td>1345</td>\n",
       "      <td>70</td>\n",
       "    </tr>\n",
       "    <tr>\n",
       "      <th>1</th>\n",
       "      <td>32417</td>\n",
       "      <td>Tanvi Adhira Agate</td>\n",
       "      <td>PRO</td>\n",
       "      <td>25-02-2015</td>\n",
       "      <td>647757</td>\n",
       "      <td>50567</td>\n",
       "      <td>31</td>\n",
       "      <td>900</td>\n",
       "      <td>891</td>\n",
       "      <td>513</td>\n",
       "    </tr>\n",
       "    <tr>\n",
       "      <th>2</th>\n",
       "      <td>32418</td>\n",
       "      <td>Rohit Alisha Aggarwal</td>\n",
       "      <td>PRO</td>\n",
       "      <td>04-07-2017</td>\n",
       "      <td>3482328</td>\n",
       "      <td>54485</td>\n",
       "      <td>31</td>\n",
       "      <td>1789</td>\n",
       "      <td>1556</td>\n",
       "      <td>429</td>\n",
       "    </tr>\n",
       "    <tr>\n",
       "      <th>3</th>\n",
       "      <td>32419</td>\n",
       "      <td>Vani Amoli Agrawal</td>\n",
       "      <td>PRO</td>\n",
       "      <td>05-09-2007</td>\n",
       "      <td>1166319</td>\n",
       "      <td>50912</td>\n",
       "      <td>26</td>\n",
       "      <td>1309</td>\n",
       "      <td>1309</td>\n",
       "      <td>825</td>\n",
       "    </tr>\n",
       "    <tr>\n",
       "      <th>4</th>\n",
       "      <td>32420</td>\n",
       "      <td>Yash Anaisha Ahluwalia</td>\n",
       "      <td>PRO</td>\n",
       "      <td>05-03-2019</td>\n",
       "      <td>867243</td>\n",
       "      <td>46644</td>\n",
       "      <td>25</td>\n",
       "      <td>1569</td>\n",
       "      <td>1443</td>\n",
       "      <td>94</td>\n",
       "    </tr>\n",
       "  </tbody>\n",
       "</table>\n",
       "</div>"
      ],
      "text/plain": [
       "       0                       1    2           3        4      5   6     7  \\\n",
       "0  32416      Tanya Adah Agarwal  CON  23-11-2012   862145  34065  29  1401   \n",
       "1  32417      Tanvi Adhira Agate  PRO  25-02-2015   647757  50567  31   900   \n",
       "2  32418   Rohit Alisha Aggarwal  PRO  04-07-2017  3482328  54485  31  1789   \n",
       "3  32419      Vani Amoli Agrawal  PRO  05-09-2007  1166319  50912  26  1309   \n",
       "4  32420  Yash Anaisha Ahluwalia  PRO  05-03-2019   867243  46644  25  1569   \n",
       "\n",
       "      8    9  \n",
       "0  1345   70  \n",
       "1   891  513  \n",
       "2  1556  429  \n",
       "3  1309  825  \n",
       "4  1443   94  "
      ]
     },
     "execution_count": 24,
     "metadata": {},
     "output_type": "execute_result"
    }
   ],
   "source": [
    "df.head()"
   ]
  },
  {
   "cell_type": "code",
   "execution_count": 31,
   "metadata": {},
   "outputs": [
    {
     "ename": "TypeError",
     "evalue": "'NoneType' object is not iterable",
     "output_type": "error",
     "traceback": [
      "\u001b[1;31m---------------------------------------------------------------------------\u001b[0m",
      "\u001b[1;31mTypeError\u001b[0m                                 Traceback (most recent call last)",
      "\u001b[1;32m<ipython-input-31-1eaa2a968352>\u001b[0m in \u001b[0;36m<module>\u001b[1;34m\u001b[0m\n\u001b[1;32m----> 1\u001b[1;33m \u001b[0mdf2\u001b[0m \u001b[1;33m=\u001b[0m \u001b[0mpd\u001b[0m\u001b[1;33m.\u001b[0m\u001b[0mread_sql_query\u001b[0m\u001b[1;33m(\u001b[0m\u001b[0msql\u001b[0m \u001b[1;33m=\u001b[0m \u001b[1;34m\"delete from basic.infoica where ecode = '32420'\"\u001b[0m\u001b[1;33m,\u001b[0m\u001b[0mcon\u001b[0m\u001b[1;33m=\u001b[0m\u001b[0mcon\u001b[0m\u001b[1;33m)\u001b[0m\u001b[1;33m\u001b[0m\u001b[1;33m\u001b[0m\u001b[0m\n\u001b[0m",
      "\u001b[1;32m~\\AppData\\Roaming\\Python\\Python37\\site-packages\\pandas\\io\\sql.py\u001b[0m in \u001b[0;36mread_sql_query\u001b[1;34m(sql, con, index_col, coerce_float, params, parse_dates, chunksize)\u001b[0m\n\u001b[0;32m    330\u001b[0m         \u001b[0mcoerce_float\u001b[0m\u001b[1;33m=\u001b[0m\u001b[0mcoerce_float\u001b[0m\u001b[1;33m,\u001b[0m\u001b[1;33m\u001b[0m\u001b[1;33m\u001b[0m\u001b[0m\n\u001b[0;32m    331\u001b[0m         \u001b[0mparse_dates\u001b[0m\u001b[1;33m=\u001b[0m\u001b[0mparse_dates\u001b[0m\u001b[1;33m,\u001b[0m\u001b[1;33m\u001b[0m\u001b[1;33m\u001b[0m\u001b[0m\n\u001b[1;32m--> 332\u001b[1;33m         \u001b[0mchunksize\u001b[0m\u001b[1;33m=\u001b[0m\u001b[0mchunksize\u001b[0m\u001b[1;33m,\u001b[0m\u001b[1;33m\u001b[0m\u001b[1;33m\u001b[0m\u001b[0m\n\u001b[0m\u001b[0;32m    333\u001b[0m     )\n\u001b[0;32m    334\u001b[0m \u001b[1;33m\u001b[0m\u001b[0m\n",
      "\u001b[1;32m~\\AppData\\Roaming\\Python\\Python37\\site-packages\\pandas\\io\\sql.py\u001b[0m in \u001b[0;36mread_query\u001b[1;34m(self, sql, index_col, coerce_float, params, parse_dates, chunksize)\u001b[0m\n\u001b[0;32m   1632\u001b[0m         \u001b[0margs\u001b[0m \u001b[1;33m=\u001b[0m \u001b[0m_convert_params\u001b[0m\u001b[1;33m(\u001b[0m\u001b[0msql\u001b[0m\u001b[1;33m,\u001b[0m \u001b[0mparams\u001b[0m\u001b[1;33m)\u001b[0m\u001b[1;33m\u001b[0m\u001b[1;33m\u001b[0m\u001b[0m\n\u001b[0;32m   1633\u001b[0m         \u001b[0mcursor\u001b[0m \u001b[1;33m=\u001b[0m \u001b[0mself\u001b[0m\u001b[1;33m.\u001b[0m\u001b[0mexecute\u001b[0m\u001b[1;33m(\u001b[0m\u001b[1;33m*\u001b[0m\u001b[0margs\u001b[0m\u001b[1;33m)\u001b[0m\u001b[1;33m\u001b[0m\u001b[1;33m\u001b[0m\u001b[0m\n\u001b[1;32m-> 1634\u001b[1;33m         \u001b[0mcolumns\u001b[0m \u001b[1;33m=\u001b[0m \u001b[1;33m[\u001b[0m\u001b[0mcol_desc\u001b[0m\u001b[1;33m[\u001b[0m\u001b[1;36m0\u001b[0m\u001b[1;33m]\u001b[0m \u001b[1;32mfor\u001b[0m \u001b[0mcol_desc\u001b[0m \u001b[1;32min\u001b[0m \u001b[0mcursor\u001b[0m\u001b[1;33m.\u001b[0m\u001b[0mdescription\u001b[0m\u001b[1;33m]\u001b[0m\u001b[1;33m\u001b[0m\u001b[1;33m\u001b[0m\u001b[0m\n\u001b[0m\u001b[0;32m   1635\u001b[0m \u001b[1;33m\u001b[0m\u001b[0m\n\u001b[0;32m   1636\u001b[0m         \u001b[1;32mif\u001b[0m \u001b[0mchunksize\u001b[0m \u001b[1;32mis\u001b[0m \u001b[1;32mnot\u001b[0m \u001b[1;32mNone\u001b[0m\u001b[1;33m:\u001b[0m\u001b[1;33m\u001b[0m\u001b[1;33m\u001b[0m\u001b[0m\n",
      "\u001b[1;31mTypeError\u001b[0m: 'NoneType' object is not iterable"
     ]
    }
   ],
   "source": [
    "df2 = pd.read_sql_query(sql = \"delete from basic.infoica where ecode = '32420'\",con=con)"
   ]
  },
  {
   "cell_type": "code",
   "execution_count": 41,
   "metadata": {},
   "outputs": [
    {
     "data": {
      "text/html": [
       "<div>\n",
       "<style scoped>\n",
       "    .dataframe tbody tr th:only-of-type {\n",
       "        vertical-align: middle;\n",
       "    }\n",
       "\n",
       "    .dataframe tbody tr th {\n",
       "        vertical-align: top;\n",
       "    }\n",
       "\n",
       "    .dataframe thead th {\n",
       "        text-align: right;\n",
       "    }\n",
       "</style>\n",
       "<table border=\"1\" class=\"dataframe\">\n",
       "  <thead>\n",
       "    <tr style=\"text-align: right;\">\n",
       "      <th></th>\n",
       "      <th>ecode</th>\n",
       "      <th>name</th>\n",
       "      <th>status</th>\n",
       "      <th>doj</th>\n",
       "      <th>Total Time Taken (Second)</th>\n",
       "      <th>salary</th>\n",
       "      <th>attendance</th>\n",
       "      <th>Total Tasks Assigned</th>\n",
       "      <th>Task Completed</th>\n",
       "      <th>flagged</th>\n",
       "    </tr>\n",
       "  </thead>\n",
       "  <tbody>\n",
       "    <tr>\n",
       "      <th>0</th>\n",
       "      <td>32416</td>\n",
       "      <td>Tanya Adah Agarwal</td>\n",
       "      <td>CON</td>\n",
       "      <td>23-11-2012</td>\n",
       "      <td>862145</td>\n",
       "      <td>34065</td>\n",
       "      <td>29</td>\n",
       "      <td>1401</td>\n",
       "      <td>1345</td>\n",
       "      <td>70</td>\n",
       "    </tr>\n",
       "    <tr>\n",
       "      <th>1</th>\n",
       "      <td>32417</td>\n",
       "      <td>Tanvi Adhira Agate</td>\n",
       "      <td>PRO</td>\n",
       "      <td>25-02-2015</td>\n",
       "      <td>647757</td>\n",
       "      <td>50567</td>\n",
       "      <td>31</td>\n",
       "      <td>900</td>\n",
       "      <td>891</td>\n",
       "      <td>513</td>\n",
       "    </tr>\n",
       "    <tr>\n",
       "      <th>2</th>\n",
       "      <td>32418</td>\n",
       "      <td>Rohit Alisha Aggarwal</td>\n",
       "      <td>PRO</td>\n",
       "      <td>04-07-2017</td>\n",
       "      <td>3482328</td>\n",
       "      <td>54485</td>\n",
       "      <td>31</td>\n",
       "      <td>1789</td>\n",
       "      <td>1556</td>\n",
       "      <td>429</td>\n",
       "    </tr>\n",
       "    <tr>\n",
       "      <th>3</th>\n",
       "      <td>32419</td>\n",
       "      <td>Vani Amoli Agrawal</td>\n",
       "      <td>PRO</td>\n",
       "      <td>05-09-2007</td>\n",
       "      <td>1166319</td>\n",
       "      <td>50912</td>\n",
       "      <td>26</td>\n",
       "      <td>1309</td>\n",
       "      <td>1309</td>\n",
       "      <td>825</td>\n",
       "    </tr>\n",
       "    <tr>\n",
       "      <th>4</th>\n",
       "      <td>32420</td>\n",
       "      <td>Yash Anaisha Ahluwalia</td>\n",
       "      <td>PRO</td>\n",
       "      <td>05-03-2019</td>\n",
       "      <td>867243</td>\n",
       "      <td>46644</td>\n",
       "      <td>25</td>\n",
       "      <td>1569</td>\n",
       "      <td>1443</td>\n",
       "      <td>94</td>\n",
       "    </tr>\n",
       "  </tbody>\n",
       "</table>\n",
       "</div>"
      ],
      "text/plain": [
       "   ecode                    name status         doj  \\\n",
       "0  32416      Tanya Adah Agarwal    CON  23-11-2012   \n",
       "1  32417      Tanvi Adhira Agate    PRO  25-02-2015   \n",
       "2  32418   Rohit Alisha Aggarwal    PRO  04-07-2017   \n",
       "3  32419      Vani Amoli Agrawal    PRO  05-09-2007   \n",
       "4  32420  Yash Anaisha Ahluwalia    PRO  05-03-2019   \n",
       "\n",
       "   Total Time Taken (Second)  salary  attendance  Total Tasks Assigned  \\\n",
       "0                     862145   34065          29                  1401   \n",
       "1                     647757   50567          31                   900   \n",
       "2                    3482328   54485          31                  1789   \n",
       "3                    1166319   50912          26                  1309   \n",
       "4                     867243   46644          25                  1569   \n",
       "\n",
       "   Task Completed  flagged  \n",
       "0            1345       70  \n",
       "1             891      513  \n",
       "2            1556      429  \n",
       "3            1309      825  \n",
       "4            1443       94  "
      ]
     },
     "execution_count": 41,
     "metadata": {},
     "output_type": "execute_result"
    }
   ],
   "source": [
    "df2.head()"
   ]
  },
  {
   "cell_type": "code",
   "execution_count": 66,
   "metadata": {},
   "outputs": [],
   "source": [
    "infoica = pd.read_sql(sql = \"select * from basic.infoica\", con = con)"
   ]
  },
  {
   "cell_type": "code",
   "execution_count": 68,
   "metadata": {},
   "outputs": [
    {
     "data": {
      "text/html": [
       "<div>\n",
       "<style scoped>\n",
       "    .dataframe tbody tr th:only-of-type {\n",
       "        vertical-align: middle;\n",
       "    }\n",
       "\n",
       "    .dataframe tbody tr th {\n",
       "        vertical-align: top;\n",
       "    }\n",
       "\n",
       "    .dataframe thead th {\n",
       "        text-align: right;\n",
       "    }\n",
       "</style>\n",
       "<table border=\"1\" class=\"dataframe\">\n",
       "  <thead>\n",
       "    <tr style=\"text-align: right;\">\n",
       "      <th></th>\n",
       "      <th>ecode</th>\n",
       "      <th>name</th>\n",
       "      <th>status</th>\n",
       "      <th>doj</th>\n",
       "      <th>Total Time Taken (Second)</th>\n",
       "      <th>salary</th>\n",
       "      <th>attendance</th>\n",
       "      <th>Total Tasks Assigned</th>\n",
       "      <th>Task Completed</th>\n",
       "      <th>flagged</th>\n",
       "    </tr>\n",
       "  </thead>\n",
       "  <tbody>\n",
       "    <tr>\n",
       "      <th>0</th>\n",
       "      <td>32416</td>\n",
       "      <td>Tanya Adah Agarwal</td>\n",
       "      <td>CON</td>\n",
       "      <td>23-11-2012</td>\n",
       "      <td>862145</td>\n",
       "      <td>34065</td>\n",
       "      <td>29</td>\n",
       "      <td>1401</td>\n",
       "      <td>1345</td>\n",
       "      <td>70</td>\n",
       "    </tr>\n",
       "    <tr>\n",
       "      <th>1</th>\n",
       "      <td>32417</td>\n",
       "      <td>Tanvi Adhira Agate</td>\n",
       "      <td>PRO</td>\n",
       "      <td>25-02-2015</td>\n",
       "      <td>647757</td>\n",
       "      <td>50567</td>\n",
       "      <td>31</td>\n",
       "      <td>900</td>\n",
       "      <td>891</td>\n",
       "      <td>513</td>\n",
       "    </tr>\n",
       "    <tr>\n",
       "      <th>2</th>\n",
       "      <td>32418</td>\n",
       "      <td>Rohit Alisha Aggarwal</td>\n",
       "      <td>PRO</td>\n",
       "      <td>04-07-2017</td>\n",
       "      <td>3482328</td>\n",
       "      <td>54485</td>\n",
       "      <td>31</td>\n",
       "      <td>1789</td>\n",
       "      <td>1556</td>\n",
       "      <td>429</td>\n",
       "    </tr>\n",
       "    <tr>\n",
       "      <th>3</th>\n",
       "      <td>32419</td>\n",
       "      <td>Vani Amoli Agrawal</td>\n",
       "      <td>PRO</td>\n",
       "      <td>05-09-2007</td>\n",
       "      <td>1166319</td>\n",
       "      <td>50912</td>\n",
       "      <td>26</td>\n",
       "      <td>1309</td>\n",
       "      <td>1309</td>\n",
       "      <td>825</td>\n",
       "    </tr>\n",
       "    <tr>\n",
       "      <th>4</th>\n",
       "      <td>32421</td>\n",
       "      <td>Shreya Ananya Ahuja</td>\n",
       "      <td>PRO</td>\n",
       "      <td>16-12-2011</td>\n",
       "      <td>4429152</td>\n",
       "      <td>59452</td>\n",
       "      <td>31</td>\n",
       "      <td>2145</td>\n",
       "      <td>2016</td>\n",
       "      <td>472</td>\n",
       "    </tr>\n",
       "    <tr>\n",
       "      <th>...</th>\n",
       "      <td>...</td>\n",
       "      <td>...</td>\n",
       "      <td>...</td>\n",
       "      <td>...</td>\n",
       "      <td>...</td>\n",
       "      <td>...</td>\n",
       "      <td>...</td>\n",
       "      <td>...</td>\n",
       "      <td>...</td>\n",
       "      <td>...</td>\n",
       "    </tr>\n",
       "    <tr>\n",
       "      <th>93</th>\n",
       "      <td>32510</td>\n",
       "      <td>Siddharth Vihaan Chander</td>\n",
       "      <td>CON</td>\n",
       "      <td>19-05-2008</td>\n",
       "      <td>421476</td>\n",
       "      <td>37925</td>\n",
       "      <td>0</td>\n",
       "      <td>725</td>\n",
       "      <td>682</td>\n",
       "      <td>537</td>\n",
       "    </tr>\n",
       "    <tr>\n",
       "      <th>94</th>\n",
       "      <td>32511</td>\n",
       "      <td>Vedant Vivaan Chandra</td>\n",
       "      <td>CON</td>\n",
       "      <td>18-08-2012</td>\n",
       "      <td>942816</td>\n",
       "      <td>15618</td>\n",
       "      <td>0</td>\n",
       "      <td>1240</td>\n",
       "      <td>1104</td>\n",
       "      <td>124</td>\n",
       "    </tr>\n",
       "    <tr>\n",
       "      <th>95</th>\n",
       "      <td>32512</td>\n",
       "      <td>Shashank Yash Chandran</td>\n",
       "      <td>CON</td>\n",
       "      <td>13-08-2019</td>\n",
       "      <td>1088170</td>\n",
       "      <td>29083</td>\n",
       "      <td>0</td>\n",
       "      <td>1922</td>\n",
       "      <td>1730</td>\n",
       "      <td>1442</td>\n",
       "    </tr>\n",
       "    <tr>\n",
       "      <th>96</th>\n",
       "      <td>32513</td>\n",
       "      <td>Tisha Yug Char</td>\n",
       "      <td>CON</td>\n",
       "      <td>01-01-2014</td>\n",
       "      <td>1899225</td>\n",
       "      <td>22061</td>\n",
       "      <td>25</td>\n",
       "      <td>1938</td>\n",
       "      <td>1725</td>\n",
       "      <td>465</td>\n",
       "    </tr>\n",
       "    <tr>\n",
       "      <th>97</th>\n",
       "      <td>32514</td>\n",
       "      <td>Ram Zuber Chatterjee</td>\n",
       "      <td>PRO</td>\n",
       "      <td>25-01-2006</td>\n",
       "      <td>3229248</td>\n",
       "      <td>39682</td>\n",
       "      <td>27</td>\n",
       "      <td>2200</td>\n",
       "      <td>2112</td>\n",
       "      <td>1518</td>\n",
       "    </tr>\n",
       "  </tbody>\n",
       "</table>\n",
       "<p>98 rows × 10 columns</p>\n",
       "</div>"
      ],
      "text/plain": [
       "    ecode                      name status         doj  \\\n",
       "0   32416        Tanya Adah Agarwal    CON  23-11-2012   \n",
       "1   32417        Tanvi Adhira Agate    PRO  25-02-2015   \n",
       "2   32418     Rohit Alisha Aggarwal    PRO  04-07-2017   \n",
       "3   32419        Vani Amoli Agrawal    PRO  05-09-2007   \n",
       "4   32421       Shreya Ananya Ahuja    PRO  16-12-2011   \n",
       "..    ...                       ...    ...         ...   \n",
       "93  32510  Siddharth Vihaan Chander    CON  19-05-2008   \n",
       "94  32511     Vedant Vivaan Chandra    CON  18-08-2012   \n",
       "95  32512    Shashank Yash Chandran    CON  13-08-2019   \n",
       "96  32513            Tisha Yug Char    CON  01-01-2014   \n",
       "97  32514      Ram Zuber Chatterjee    PRO  25-01-2006   \n",
       "\n",
       "    Total Time Taken (Second)  salary  attendance  Total Tasks Assigned  \\\n",
       "0                      862145   34065          29                  1401   \n",
       "1                      647757   50567          31                   900   \n",
       "2                     3482328   54485          31                  1789   \n",
       "3                     1166319   50912          26                  1309   \n",
       "4                     4429152   59452          31                  2145   \n",
       "..                        ...     ...         ...                   ...   \n",
       "93                     421476   37925           0                   725   \n",
       "94                     942816   15618           0                  1240   \n",
       "95                    1088170   29083           0                  1922   \n",
       "96                    1899225   22061          25                  1938   \n",
       "97                    3229248   39682          27                  2200   \n",
       "\n",
       "    Task Completed  flagged  \n",
       "0             1345       70  \n",
       "1              891      513  \n",
       "2             1556      429  \n",
       "3             1309      825  \n",
       "4             2016      472  \n",
       "..             ...      ...  \n",
       "93             682      537  \n",
       "94            1104      124  \n",
       "95            1730     1442  \n",
       "96            1725      465  \n",
       "97            2112     1518  \n",
       "\n",
       "[98 rows x 10 columns]"
      ]
     },
     "execution_count": 68,
     "metadata": {},
     "output_type": "execute_result"
    }
   ],
   "source": [
    "infoica"
   ]
  },
  {
   "cell_type": "code",
   "execution_count": 30,
   "metadata": {},
   "outputs": [
    {
     "ename": "TypeError",
     "evalue": "'Series' object is not callable",
     "output_type": "error",
     "traceback": [
      "\u001b[1;31m---------------------------------------------------------------------------\u001b[0m",
      "\u001b[1;31mTypeError\u001b[0m                                 Traceback (most recent call last)",
      "\u001b[1;32m<ipython-input-30-3834c7107d7a>\u001b[0m in \u001b[0;36m<module>\u001b[1;34m\u001b[0m\n\u001b[1;32m----> 1\u001b[1;33m \u001b[0mdf3\u001b[0m\u001b[1;33m.\u001b[0m\u001b[0mdtypes\u001b[0m\u001b[1;33m(\u001b[0m\u001b[1;33m)\u001b[0m\u001b[1;33m\u001b[0m\u001b[1;33m\u001b[0m\u001b[0m\n\u001b[0m",
      "\u001b[1;31mTypeError\u001b[0m: 'Series' object is not callable"
     ]
    }
   ],
   "source": []
  },
  {
   "cell_type": "code",
   "execution_count": 32,
   "metadata": {},
   "outputs": [],
   "source": [
    "df3 = pd.read_sql(\"select * from basic.ledger\", con=con)"
   ]
  },
  {
   "cell_type": "code",
   "execution_count": 33,
   "metadata": {},
   "outputs": [
    {
     "data": {
      "text/html": [
       "<div>\n",
       "<style scoped>\n",
       "    .dataframe tbody tr th:only-of-type {\n",
       "        vertical-align: middle;\n",
       "    }\n",
       "\n",
       "    .dataframe tbody tr th {\n",
       "        vertical-align: top;\n",
       "    }\n",
       "\n",
       "    .dataframe thead th {\n",
       "        text-align: right;\n",
       "    }\n",
       "</style>\n",
       "<table border=\"1\" class=\"dataframe\">\n",
       "  <thead>\n",
       "    <tr style=\"text-align: right;\">\n",
       "      <th></th>\n",
       "      <th>shopping_date</th>\n",
       "      <th>name</th>\n",
       "      <th>item_name</th>\n",
       "      <th>quantity</th>\n",
       "      <th>rate</th>\n",
       "    </tr>\n",
       "  </thead>\n",
       "  <tbody>\n",
       "    <tr>\n",
       "      <th>0</th>\n",
       "      <td>2020-01-01</td>\n",
       "      <td>Gaurav</td>\n",
       "      <td>ghee</td>\n",
       "      <td>2</td>\n",
       "      <td>480</td>\n",
       "    </tr>\n",
       "    <tr>\n",
       "      <th>1</th>\n",
       "      <td>2020-01-01</td>\n",
       "      <td>Gaurav</td>\n",
       "      <td>sugar</td>\n",
       "      <td>2</td>\n",
       "      <td>40</td>\n",
       "    </tr>\n",
       "    <tr>\n",
       "      <th>2</th>\n",
       "      <td>2020-01-01</td>\n",
       "      <td>Gaurav</td>\n",
       "      <td>fresh wrap</td>\n",
       "      <td>2</td>\n",
       "      <td>185</td>\n",
       "    </tr>\n",
       "    <tr>\n",
       "      <th>3</th>\n",
       "      <td>2020-01-01</td>\n",
       "      <td>Niti</td>\n",
       "      <td>jhaadu</td>\n",
       "      <td>2</td>\n",
       "      <td>480</td>\n",
       "    </tr>\n",
       "    <tr>\n",
       "      <th>4</th>\n",
       "      <td>2020-01-01</td>\n",
       "      <td>Niti</td>\n",
       "      <td>sugar</td>\n",
       "      <td>2</td>\n",
       "      <td>40</td>\n",
       "    </tr>\n",
       "  </tbody>\n",
       "</table>\n",
       "</div>"
      ],
      "text/plain": [
       "  shopping_date    name   item_name  quantity  rate\n",
       "0    2020-01-01  Gaurav        ghee         2   480\n",
       "1    2020-01-01  Gaurav       sugar         2    40\n",
       "2    2020-01-01  Gaurav  fresh wrap         2   185\n",
       "3    2020-01-01    Niti      jhaadu         2   480\n",
       "4    2020-01-01    Niti       sugar         2    40"
      ]
     },
     "execution_count": 33,
     "metadata": {},
     "output_type": "execute_result"
    }
   ],
   "source": [
    "df3.head()"
   ]
  },
  {
   "cell_type": "code",
   "execution_count": 34,
   "metadata": {},
   "outputs": [],
   "source": [
    "cur.execute(\"delete from basic.ledger where item_name = 'sugar' and name = 'Gaurav'\")"
   ]
  },
  {
   "cell_type": "code",
   "execution_count": 35,
   "metadata": {},
   "outputs": [],
   "source": [
    "df4 = pd.read_sql(\"select * from basic.ledger\", con = con)"
   ]
  },
  {
   "cell_type": "code",
   "execution_count": 36,
   "metadata": {},
   "outputs": [
    {
     "data": {
      "text/html": [
       "<div>\n",
       "<style scoped>\n",
       "    .dataframe tbody tr th:only-of-type {\n",
       "        vertical-align: middle;\n",
       "    }\n",
       "\n",
       "    .dataframe tbody tr th {\n",
       "        vertical-align: top;\n",
       "    }\n",
       "\n",
       "    .dataframe thead th {\n",
       "        text-align: right;\n",
       "    }\n",
       "</style>\n",
       "<table border=\"1\" class=\"dataframe\">\n",
       "  <thead>\n",
       "    <tr style=\"text-align: right;\">\n",
       "      <th></th>\n",
       "      <th>shopping_date</th>\n",
       "      <th>name</th>\n",
       "      <th>item_name</th>\n",
       "      <th>quantity</th>\n",
       "      <th>rate</th>\n",
       "    </tr>\n",
       "  </thead>\n",
       "  <tbody>\n",
       "    <tr>\n",
       "      <th>0</th>\n",
       "      <td>2020-01-01</td>\n",
       "      <td>Gaurav</td>\n",
       "      <td>ghee</td>\n",
       "      <td>2</td>\n",
       "      <td>480</td>\n",
       "    </tr>\n",
       "    <tr>\n",
       "      <th>1</th>\n",
       "      <td>2020-01-01</td>\n",
       "      <td>Gaurav</td>\n",
       "      <td>fresh wrap</td>\n",
       "      <td>2</td>\n",
       "      <td>185</td>\n",
       "    </tr>\n",
       "    <tr>\n",
       "      <th>2</th>\n",
       "      <td>2020-01-01</td>\n",
       "      <td>Niti</td>\n",
       "      <td>jhaadu</td>\n",
       "      <td>2</td>\n",
       "      <td>480</td>\n",
       "    </tr>\n",
       "    <tr>\n",
       "      <th>3</th>\n",
       "      <td>2020-01-01</td>\n",
       "      <td>Niti</td>\n",
       "      <td>sugar</td>\n",
       "      <td>2</td>\n",
       "      <td>40</td>\n",
       "    </tr>\n",
       "    <tr>\n",
       "      <th>4</th>\n",
       "      <td>2020-01-01</td>\n",
       "      <td>Niti</td>\n",
       "      <td>fresh wrap</td>\n",
       "      <td>1</td>\n",
       "      <td>185</td>\n",
       "    </tr>\n",
       "  </tbody>\n",
       "</table>\n",
       "</div>"
      ],
      "text/plain": [
       "  shopping_date    name   item_name  quantity  rate\n",
       "0    2020-01-01  Gaurav        ghee         2   480\n",
       "1    2020-01-01  Gaurav  fresh wrap         2   185\n",
       "2    2020-01-01    Niti      jhaadu         2   480\n",
       "3    2020-01-01    Niti       sugar         2    40\n",
       "4    2020-01-01    Niti  fresh wrap         1   185"
      ]
     },
     "execution_count": 36,
     "metadata": {},
     "output_type": "execute_result"
    }
   ],
   "source": [
    "df4.head()"
   ]
  },
  {
   "cell_type": "code",
   "execution_count": 37,
   "metadata": {},
   "outputs": [],
   "source": [
    "deletedrows = cur.rowcount"
   ]
  },
  {
   "cell_type": "code",
   "execution_count": 39,
   "metadata": {},
   "outputs": [
    {
     "name": "stdout",
     "output_type": "stream",
     "text": [
      "1\n"
     ]
    }
   ],
   "source": [
    "print(deletedrows)"
   ]
  },
  {
   "cell_type": "code",
   "execution_count": 42,
   "metadata": {},
   "outputs": [
    {
     "data": {
      "text/html": [
       "<div>\n",
       "<style scoped>\n",
       "    .dataframe tbody tr th:only-of-type {\n",
       "        vertical-align: middle;\n",
       "    }\n",
       "\n",
       "    .dataframe tbody tr th {\n",
       "        vertical-align: top;\n",
       "    }\n",
       "\n",
       "    .dataframe thead th {\n",
       "        text-align: right;\n",
       "    }\n",
       "</style>\n",
       "<table border=\"1\" class=\"dataframe\">\n",
       "  <thead>\n",
       "    <tr style=\"text-align: right;\">\n",
       "      <th></th>\n",
       "      <th>ecode</th>\n",
       "      <th>name</th>\n",
       "      <th>status</th>\n",
       "      <th>doj</th>\n",
       "      <th>Total Time Taken (Second)</th>\n",
       "      <th>salary</th>\n",
       "      <th>attendance</th>\n",
       "      <th>Total Tasks Assigned</th>\n",
       "      <th>Task Completed</th>\n",
       "      <th>flagged</th>\n",
       "    </tr>\n",
       "  </thead>\n",
       "  <tbody>\n",
       "    <tr>\n",
       "      <th>0</th>\n",
       "      <td>32416</td>\n",
       "      <td>Tanya Adah Agarwal</td>\n",
       "      <td>CON</td>\n",
       "      <td>23-11-2012</td>\n",
       "      <td>862145</td>\n",
       "      <td>34065</td>\n",
       "      <td>29</td>\n",
       "      <td>1401</td>\n",
       "      <td>1345</td>\n",
       "      <td>70</td>\n",
       "    </tr>\n",
       "    <tr>\n",
       "      <th>1</th>\n",
       "      <td>32417</td>\n",
       "      <td>Tanvi Adhira Agate</td>\n",
       "      <td>PRO</td>\n",
       "      <td>25-02-2015</td>\n",
       "      <td>647757</td>\n",
       "      <td>50567</td>\n",
       "      <td>31</td>\n",
       "      <td>900</td>\n",
       "      <td>891</td>\n",
       "      <td>513</td>\n",
       "    </tr>\n",
       "    <tr>\n",
       "      <th>2</th>\n",
       "      <td>32418</td>\n",
       "      <td>Rohit Alisha Aggarwal</td>\n",
       "      <td>PRO</td>\n",
       "      <td>04-07-2017</td>\n",
       "      <td>3482328</td>\n",
       "      <td>54485</td>\n",
       "      <td>31</td>\n",
       "      <td>1789</td>\n",
       "      <td>1556</td>\n",
       "      <td>429</td>\n",
       "    </tr>\n",
       "  </tbody>\n",
       "</table>\n",
       "</div>"
      ],
      "text/plain": [
       "   ecode                   name status         doj  Total Time Taken (Second)  \\\n",
       "0  32416     Tanya Adah Agarwal    CON  23-11-2012                     862145   \n",
       "1  32417     Tanvi Adhira Agate    PRO  25-02-2015                     647757   \n",
       "2  32418  Rohit Alisha Aggarwal    PRO  04-07-2017                    3482328   \n",
       "\n",
       "   salary  attendance  Total Tasks Assigned  Task Completed  flagged  \n",
       "0   34065          29                  1401            1345       70  \n",
       "1   50567          31                   900             891      513  \n",
       "2   54485          31                  1789            1556      429  "
      ]
     },
     "execution_count": 42,
     "metadata": {},
     "output_type": "execute_result"
    }
   ],
   "source": [
    "df2.head(3)"
   ]
  },
  {
   "cell_type": "code",
   "execution_count": 43,
   "metadata": {},
   "outputs": [
    {
     "data": {
      "text/plain": [
       "0       Tanya Adah Agarwal\n",
       "1       Tanvi Adhira Agate\n",
       "2    Rohit Alisha Aggarwal\n",
       "Name: name, dtype: object"
      ]
     },
     "execution_count": 43,
     "metadata": {},
     "output_type": "execute_result"
    }
   ],
   "source": [
    "df2.name.head(3)"
   ]
  },
  {
   "cell_type": "code",
   "execution_count": 55,
   "metadata": {},
   "outputs": [],
   "source": [
    "df2[\"new_name\"] = df2[\"name\"].str.split(\" \")"
   ]
  },
  {
   "cell_type": "code",
   "execution_count": 57,
   "metadata": {},
   "outputs": [
    {
     "data": {
      "text/html": [
       "<div>\n",
       "<style scoped>\n",
       "    .dataframe tbody tr th:only-of-type {\n",
       "        vertical-align: middle;\n",
       "    }\n",
       "\n",
       "    .dataframe tbody tr th {\n",
       "        vertical-align: top;\n",
       "    }\n",
       "\n",
       "    .dataframe thead th {\n",
       "        text-align: right;\n",
       "    }\n",
       "</style>\n",
       "<table border=\"1\" class=\"dataframe\">\n",
       "  <thead>\n",
       "    <tr style=\"text-align: right;\">\n",
       "      <th></th>\n",
       "      <th>ecode</th>\n",
       "      <th>name</th>\n",
       "      <th>status</th>\n",
       "      <th>doj</th>\n",
       "      <th>Total Time Taken (Second)</th>\n",
       "      <th>salary</th>\n",
       "      <th>attendance</th>\n",
       "      <th>Total Tasks Assigned</th>\n",
       "      <th>Task Completed</th>\n",
       "      <th>flagged</th>\n",
       "      <th>new_name</th>\n",
       "    </tr>\n",
       "  </thead>\n",
       "  <tbody>\n",
       "    <tr>\n",
       "      <th>0</th>\n",
       "      <td>32416</td>\n",
       "      <td>Tanya Adah Agarwal</td>\n",
       "      <td>CON</td>\n",
       "      <td>23-11-2012</td>\n",
       "      <td>862145</td>\n",
       "      <td>34065</td>\n",
       "      <td>29</td>\n",
       "      <td>1401</td>\n",
       "      <td>1345</td>\n",
       "      <td>70</td>\n",
       "      <td>[Tanya, Adah, Agarwal]</td>\n",
       "    </tr>\n",
       "  </tbody>\n",
       "</table>\n",
       "</div>"
      ],
      "text/plain": [
       "   ecode                name status         doj  Total Time Taken (Second)  \\\n",
       "0  32416  Tanya Adah Agarwal    CON  23-11-2012                     862145   \n",
       "\n",
       "   salary  attendance  Total Tasks Assigned  Task Completed  flagged  \\\n",
       "0   34065          29                  1401            1345       70   \n",
       "\n",
       "                 new_name  \n",
       "0  [Tanya, Adah, Agarwal]  "
      ]
     },
     "execution_count": 57,
     "metadata": {},
     "output_type": "execute_result"
    }
   ],
   "source": [
    "df2.head(1)"
   ]
  },
  {
   "cell_type": "code",
   "execution_count": 58,
   "metadata": {},
   "outputs": [],
   "source": [
    "test_name= df2[\"name\"].str.split(\" \", expand = True)"
   ]
  },
  {
   "cell_type": "code",
   "execution_count": 62,
   "metadata": {},
   "outputs": [],
   "source": [
    "df2[\"first_name\"] = test_name[0]\n",
    "df2[\"middle_name\"] = test_name[1]\n",
    "df2[\"last_name\"] = test_name[2]"
   ]
  },
  {
   "cell_type": "code",
   "execution_count": 64,
   "metadata": {},
   "outputs": [],
   "source": [
    "df2.drop([\"new_name\"], axis = 1, inplace = True)"
   ]
  },
  {
   "cell_type": "code",
   "execution_count": 69,
   "metadata": {},
   "outputs": [
    {
     "data": {
      "text/html": [
       "<div>\n",
       "<style scoped>\n",
       "    .dataframe tbody tr th:only-of-type {\n",
       "        vertical-align: middle;\n",
       "    }\n",
       "\n",
       "    .dataframe tbody tr th {\n",
       "        vertical-align: top;\n",
       "    }\n",
       "\n",
       "    .dataframe thead th {\n",
       "        text-align: right;\n",
       "    }\n",
       "</style>\n",
       "<table border=\"1\" class=\"dataframe\">\n",
       "  <thead>\n",
       "    <tr style=\"text-align: right;\">\n",
       "      <th></th>\n",
       "      <th>ecode</th>\n",
       "      <th>name</th>\n",
       "      <th>status</th>\n",
       "      <th>doj</th>\n",
       "      <th>Total Time Taken (Second)</th>\n",
       "      <th>salary</th>\n",
       "      <th>attendance</th>\n",
       "      <th>Total Tasks Assigned</th>\n",
       "      <th>Task Completed</th>\n",
       "      <th>flagged</th>\n",
       "      <th>first_name</th>\n",
       "      <th>middle_name</th>\n",
       "      <th>last_name</th>\n",
       "    </tr>\n",
       "  </thead>\n",
       "  <tbody>\n",
       "    <tr>\n",
       "      <th>0</th>\n",
       "      <td>32416</td>\n",
       "      <td>Tanya Adah Agarwal</td>\n",
       "      <td>CON</td>\n",
       "      <td>23-11-2012</td>\n",
       "      <td>862145</td>\n",
       "      <td>34065</td>\n",
       "      <td>29</td>\n",
       "      <td>1401</td>\n",
       "      <td>1345</td>\n",
       "      <td>70</td>\n",
       "      <td>Tanya</td>\n",
       "      <td>Adah</td>\n",
       "      <td>Agarwal</td>\n",
       "    </tr>\n",
       "    <tr>\n",
       "      <th>1</th>\n",
       "      <td>32417</td>\n",
       "      <td>Tanvi Adhira Agate</td>\n",
       "      <td>PRO</td>\n",
       "      <td>25-02-2015</td>\n",
       "      <td>647757</td>\n",
       "      <td>50567</td>\n",
       "      <td>31</td>\n",
       "      <td>900</td>\n",
       "      <td>891</td>\n",
       "      <td>513</td>\n",
       "      <td>Tanvi</td>\n",
       "      <td>Adhira</td>\n",
       "      <td>Agate</td>\n",
       "    </tr>\n",
       "  </tbody>\n",
       "</table>\n",
       "</div>"
      ],
      "text/plain": [
       "   ecode                name status         doj  Total Time Taken (Second)  \\\n",
       "0  32416  Tanya Adah Agarwal    CON  23-11-2012                     862145   \n",
       "1  32417  Tanvi Adhira Agate    PRO  25-02-2015                     647757   \n",
       "\n",
       "   salary  attendance  Total Tasks Assigned  Task Completed  flagged  \\\n",
       "0   34065          29                  1401            1345       70   \n",
       "1   50567          31                   900             891      513   \n",
       "\n",
       "  first_name middle_name last_name  \n",
       "0      Tanya        Adah   Agarwal  \n",
       "1      Tanvi      Adhira     Agate  "
      ]
     },
     "execution_count": 69,
     "metadata": {},
     "output_type": "execute_result"
    }
   ],
   "source": [
    "df2.head(2)"
   ]
  },
  {
   "cell_type": "code",
   "execution_count": null,
   "metadata": {},
   "outputs": [],
   "source": []
  },
  {
   "cell_type": "code",
   "execution_count": null,
   "metadata": {},
   "outputs": [],
   "source": []
  },
  {
   "cell_type": "code",
   "execution_count": null,
   "metadata": {},
   "outputs": [],
   "source": []
  },
  {
   "cell_type": "code",
   "execution_count": null,
   "metadata": {},
   "outputs": [],
   "source": []
  },
  {
   "cell_type": "code",
   "execution_count": null,
   "metadata": {},
   "outputs": [],
   "source": []
  },
  {
   "cell_type": "code",
   "execution_count": null,
   "metadata": {},
   "outputs": [],
   "source": []
  },
  {
   "cell_type": "code",
   "execution_count": null,
   "metadata": {},
   "outputs": [],
   "source": []
  }
 ],
 "metadata": {
  "kernelspec": {
   "display_name": "Python 3",
   "language": "python",
   "name": "python3"
  },
  "language_info": {
   "codemirror_mode": {
    "name": "ipython",
    "version": 3
   },
   "file_extension": ".py",
   "mimetype": "text/x-python",
   "name": "python",
   "nbconvert_exporter": "python",
   "pygments_lexer": "ipython3",
   "version": "3.7.4"
  }
 },
 "nbformat": 4,
 "nbformat_minor": 2
}
